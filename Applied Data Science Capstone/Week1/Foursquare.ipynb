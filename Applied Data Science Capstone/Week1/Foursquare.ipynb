{
 "cells": [
  {
   "cell_type": "markdown",
   "metadata": {},
   "source": [
    "# Building Foursquare API\n",
    "'''\n",
    "In this lab, you will learn in details how to make calls to the Foursquare API for different purposes. \n",
    "You will learn how to construct a URL to send a request to the API to search for a specific type of venues, \n",
    "to explore a particular venue, to explore a Foursquare user, to explore a geographical location, and to get \n",
    "trending venues around a location. Also, you will learn how to use the visualization library, Folium, \n",
    "to visualize the results.\n",
    "'''"
   ]
  },
  {
   "cell_type": "code",
   "execution_count": 1,
   "metadata": {},
   "outputs": [
    {
     "name": "stdout",
     "output_type": "stream",
     "text": [
      "Solving environment: done\n",
      "\n",
      "## Package Plan ##\n",
      "\n",
      "  environment location: /Users/nr/anaconda2\n",
      "\n",
      "  added / updated specs: \n",
      "    - geopy\n",
      "\n",
      "\n",
      "The following packages will be downloaded:\n",
      "\n",
      "    package                    |            build\n",
      "    ---------------------------|-----------------\n",
      "    geographiclib-1.49         |             py_0          32 KB  conda-forge\n",
      "    ca-certificates-2018.11.29 |       ha4d7672_0         143 KB  conda-forge\n",
      "    geopy-1.18.1               |             py_0          51 KB  conda-forge\n",
      "    certifi-2018.11.29         |        py27_1000         145 KB  conda-forge\n",
      "    conda-4.5.12               |        py27_1000         652 KB  conda-forge\n",
      "    openssl-1.0.2p             |       h470a237_1         2.9 MB  conda-forge\n",
      "    ------------------------------------------------------------\n",
      "                                           Total:         3.9 MB\n",
      "\n",
      "The following NEW packages will be INSTALLED:\n",
      "\n",
      "    geographiclib:   1.49-py_0        conda-forge\n",
      "    geopy:           1.18.1-py_0      conda-forge\n",
      "\n",
      "The following packages will be UPDATED:\n",
      "\n",
      "    ca-certificates: 2018.4.16-0      conda-forge --> 2018.11.29-ha4d7672_0 conda-forge\n",
      "    certifi:         2018.4.16-py27_0 conda-forge --> 2018.11.29-py27_1000  conda-forge\n",
      "    conda:           4.5.4-py27_0     conda-forge --> 4.5.12-py27_1000      conda-forge\n",
      "    openssl:         1.0.2o-0         conda-forge --> 1.0.2p-h470a237_1     conda-forge\n",
      "\n",
      "\n",
      "Downloading and Extracting Packages\n",
      "geographiclib-1.49   |   32 KB | ####################################### | 100% \n",
      "ca-certificates-2018 |  143 KB | ####################################### | 100% \n",
      "geopy-1.18.1         |   51 KB | ####################################### | 100% \n",
      "certifi-2018.11.29   |  145 KB | ####################################### | 100% \n",
      "conda-4.5.12         |  652 KB | ####################################### | 100% \n",
      "openssl-1.0.2p       |  2.9 MB | ####################################### | 100% \n",
      "Preparing transaction: done\n",
      "Verifying transaction: done\n",
      "Executing transaction: done\n",
      "Solving environment: done\n",
      "\n",
      "## Package Plan ##\n",
      "\n",
      "  environment location: /Users/nr/anaconda2\n",
      "\n",
      "  added / updated specs: \n",
      "    - folium=0.5.0\n",
      "\n",
      "\n",
      "The following packages will be downloaded:\n",
      "\n",
      "    package                    |            build\n",
      "    ---------------------------|-----------------\n",
      "    numpy-1.14.2               |   py27ha9ae307_0         3.9 MB\n",
      "    branca-0.3.1               |             py_0          25 KB  conda-forge\n",
      "    altair-2.3.0               |        py27_1001         518 KB  conda-forge\n",
      "    pandas-0.23.4              |   py27hf8a1672_0        10.3 MB  conda-forge\n",
      "    vincent-0.4.4              |             py_1          28 KB  conda-forge\n",
      "    blas-1.0                   |              mkl           5 KB\n",
      "    folium-0.5.0               |             py_0          45 KB  conda-forge\n",
      "    ------------------------------------------------------------\n",
      "                                           Total:        14.8 MB\n",
      "\n",
      "The following NEW packages will be INSTALLED:\n",
      "\n",
      "    altair:  2.3.0-py27_1001       conda-forge\n",
      "    blas:    1.0-mkl                          \n",
      "    branca:  0.3.1-py_0            conda-forge\n",
      "    folium:  0.5.0-py_0            conda-forge\n",
      "    vincent: 0.4.4-py_1            conda-forge\n",
      "\n",
      "The following packages will be UPDATED:\n",
      "\n",
      "    numpy:   1.10.4-py27_nomkl_2               --> 1.14.2-py27ha9ae307_0            \n",
      "    pandas:  0.22.0-py27h0a44026_0             --> 0.23.4-py27hf8a1672_0 conda-forge\n",
      "\n",
      "\n",
      "Downloading and Extracting Packages\n",
      "numpy-1.14.2         | 3.9 MB    | ##################################### | 100% \n",
      "branca-0.3.1         | 25 KB     | ##################################### | 100% \n",
      "altair-2.3.0         | 518 KB    | ##################################### | 100% \n",
      "pandas-0.23.4        | 10.3 MB   | ##################################### | 100% \n",
      "vincent-0.4.4        | 28 KB     | ##################################### | 100% \n",
      "blas-1.0             | 5 KB      | ##################################### | 100% \n",
      "folium-0.5.0         | 45 KB     | ##################################### | 100% \n",
      "Preparing transaction: done\n",
      "Verifying transaction: done\n",
      "Executing transaction: done\n",
      "Folium installed\n",
      "Libraries imported.\n"
     ]
    }
   ],
   "source": [
    "!conda install -c conda-forge geopy --yes \n",
    "from geopy.geocoders import Nominatim # module to convert an address into latitude and longitude values\n",
    "import requests # library to handle requests\n",
    "import pandas as pd # library for data analsysis\n",
    "import numpy as np # library to handle data in a vectorized manner\n",
    "import random # library for random number generation\n",
    "\n",
    "# libraries for displaying images\n",
    "from IPython.display import Image \n",
    "from IPython.core.display import HTML \n",
    "    \n",
    "# tranforming json file into a pandas dataframe library\n",
    "from pandas.io.json import json_normalize\n",
    "\n",
    "!conda install -c conda-forge folium=0.5.0 --yes\n",
    "import folium # plotting library\n",
    "\n",
    "print('Folium installed')\n",
    "print('Libraries imported.')"
   ]
  },
  {
   "cell_type": "markdown",
   "metadata": {},
   "source": [
    "### Define Foursquare Credentials and Version"
   ]
  },
  {
   "cell_type": "code",
   "execution_count": 16,
   "metadata": {},
   "outputs": [
    {
     "name": "stdout",
     "output_type": "stream",
     "text": [
      "Your credentails:\n",
      "CLIENT_ID: KOPEIOPPWWFBAAYUQVKQ55WUSQJE3OOCEJ01W1CUCQI3Q1PF\n",
      "CLIENT_SECRET:RVJ1RH220QUNK2JZNZMDO4UMWVYPBK4E43MEHCSESSB2GI4W\n"
     ]
    }
   ],
   "source": [
    "CLIENT_ID = 'KOPEIOPPWWFBAAYUQVKQ55WUSQJE3OOCEJ01W1CUCQI3Q1PF' # your Foursquare ID\n",
    "CLIENT_SECRET = 'RVJ1RH220QUNK2JZNZMDO4UMWVYPBK4E43MEHCSESSB2GI4W' # your Foursquare Secret\n",
    "VERSION = '20180604'\n",
    "LIMIT = 30\n",
    "print('Your credentails:')\n",
    "print('CLIENT_ID: ' + CLIENT_ID)\n",
    "print('CLIENT_SECRET:' + CLIENT_SECRET)"
   ]
  },
  {
   "cell_type": "markdown",
   "metadata": {},
   "source": [
    "#### Let's again assume that you are staying at the Conrad hotel. So let's start by converting the Contrad Hotel's address to its latitude and longitude coordinates."
   ]
  },
  {
   "cell_type": "code",
   "execution_count": 17,
   "metadata": {},
   "outputs": [
    {
     "name": "stderr",
     "output_type": "stream",
     "text": [
      "/Users/nr/anaconda2/lib/python2.7/site-packages/ipykernel_launcher.py:3: DeprecationWarning: Using Nominatim with the default \"geopy/1.18.1\" `user_agent` is strongly discouraged, as it violates Nominatim's ToS https://operations.osmfoundation.org/policies/nominatim/ and may possibly cause 403 and 429 HTTP errors. Please specify a custom `user_agent` with `Nominatim(user_agent=\"my-application\")` or by overriding the default `user_agent`: `geopy.geocoders.options.default_user_agent = \"my-application\"`. In geopy 2.0 this will become an exception.\n",
      "  This is separate from the ipykernel package so we can avoid doing imports until\n"
     ]
    },
    {
     "name": "stdout",
     "output_type": "stream",
     "text": [
      "(40.7149555, -74.0153365)\n"
     ]
    }
   ],
   "source": [
    "address = '102 North End Ave, New York, NY'\n",
    "\n",
    "geolocator = Nominatim()\n",
    "location = geolocator.geocode(address)\n",
    "latitude = location.latitude\n",
    "longitude = location.longitude\n",
    "print(latitude, longitude)"
   ]
  },
  {
   "cell_type": "markdown",
   "metadata": {},
   "source": [
    "## 1. Search for a specific venue category\n",
    ">`https://api.foursquare.com/v2/venues/`**search**`?client_id=`**CLIENT_ID**`&client_secret=`**CLIENT_SECRET**`&ll=`**LATITUDE**`,`**LONGITUDE**`&v=`**VERSION**`&query=`**QUERY**`&radius=`**RADIUS**`&limit=`**LIMIT**"
   ]
  },
  {
   "cell_type": "code",
   "execution_count": 18,
   "metadata": {},
   "outputs": [
    {
     "name": "stdout",
     "output_type": "stream",
     "text": [
      "Italian .... OK!\n"
     ]
    }
   ],
   "source": [
    "search_query = 'Italian'\n",
    "radius = 500\n",
    "print(search_query + ' .... OK!')"
   ]
  },
  {
   "cell_type": "markdown",
   "metadata": {},
   "source": [
    "#### Define the corresponding URL"
   ]
  },
  {
   "cell_type": "code",
   "execution_count": 19,
   "metadata": {},
   "outputs": [
    {
     "data": {
      "text/plain": [
       "'https://api.foursquare.com/v2/venues/search?client_id=KOPEIOPPWWFBAAYUQVKQ55WUSQJE3OOCEJ01W1CUCQI3Q1PF&client_secret=RVJ1RH220QUNK2JZNZMDO4UMWVYPBK4E43MEHCSESSB2GI4W&ll=40.7149555,-74.0153365&v=20180604&query=Italian&radius=500&limit=30'"
      ]
     },
     "execution_count": 19,
     "metadata": {},
     "output_type": "execute_result"
    }
   ],
   "source": [
    "url = 'https://api.foursquare.com/v2/venues/search?client_id={}&client_secret={}&ll={},{}&v={}&query={}&radius={}&limit={}'.format(CLIENT_ID, CLIENT_SECRET, latitude, longitude, VERSION, search_query, radius, LIMIT)\n",
    "url"
   ]
  },
  {
   "cell_type": "markdown",
   "metadata": {},
   "source": [
    "#### Send the GET Request and examine the results"
   ]
  },
  {
   "cell_type": "code",
   "execution_count": 20,
   "metadata": {},
   "outputs": [
    {
     "data": {
      "text/plain": [
       "{u'meta': {u'code': 200, u'requestId': u'5c1be25c6a607133f375ac1a'},\n",
       " u'response': {u'venues': [{u'categories': [{u'icon': {u'prefix': u'https://ss3.4sqi.net/img/categories_v2/food/pizza_',\n",
       "       u'suffix': u'.png'},\n",
       "      u'id': u'4bf58dd8d48988d1ca941735',\n",
       "      u'name': u'Pizza Place',\n",
       "      u'pluralName': u'Pizza Places',\n",
       "      u'primary': True,\n",
       "      u'shortName': u'Pizza'}],\n",
       "    u'delivery': {u'id': u'294544',\n",
       "     u'provider': {u'icon': {u'name': u'/delivery_provider_seamless_20180129.png',\n",
       "       u'prefix': u'https://fastly.4sqi.net/img/general/cap/',\n",
       "       u'sizes': [40, 50]},\n",
       "      u'name': u'seamless'},\n",
       "     u'url': u'https://www.seamless.com/menu/harrys-italian-pizza-bar-225-murray-st-new-york/294544?affiliate=1131&utm_source=foursquare-affiliate-network&utm_medium=affiliate&utm_campaign=1131&utm_content=294544'},\n",
       "    u'hasPerk': False,\n",
       "    u'id': u'4fa862b3e4b0ebff2f749f06',\n",
       "    u'location': {u'address': u'225 Murray St',\n",
       "     u'cc': u'US',\n",
       "     u'city': u'New York',\n",
       "     u'country': u'United States',\n",
       "     u'distance': 58,\n",
       "     u'formattedAddress': [u'225 Murray St',\n",
       "      u'New York, NY 10282',\n",
       "      u'United States'],\n",
       "     u'labeledLatLngs': [{u'label': u'display',\n",
       "       u'lat': 40.71521779064671,\n",
       "       u'lng': -74.01473940209351}],\n",
       "     u'lat': 40.71521779064671,\n",
       "     u'lng': -74.01473940209351,\n",
       "     u'postalCode': u'10282',\n",
       "     u'state': u'NY'},\n",
       "    u'name': u\"Harry's Italian Pizza Bar\",\n",
       "    u'referralId': u'v-1545331292'},\n",
       "   {u'categories': [{u'icon': {u'prefix': u'https://ss3.4sqi.net/img/categories_v2/food/default_',\n",
       "       u'suffix': u'.png'},\n",
       "      u'id': u'4d4b7105d754a06374d81259',\n",
       "      u'name': u'Food',\n",
       "      u'pluralName': u'Food',\n",
       "      u'primary': True,\n",
       "      u'shortName': u'Food'}],\n",
       "    u'hasPerk': False,\n",
       "    u'id': u'4f3232e219836c91c7bfde94',\n",
       "    u'location': {u'address': u'63 W Broadway',\n",
       "     u'cc': u'US',\n",
       "     u'city': u'New York',\n",
       "     u'country': u'United States',\n",
       "     u'distance': 446,\n",
       "     u'formattedAddress': [u'63 W Broadway',\n",
       "      u'New York, NY 10007',\n",
       "      u'United States'],\n",
       "     u'labeledLatLngs': [{u'label': u'display',\n",
       "       u'lat': 40.71446,\n",
       "       u'lng': -74.010086}],\n",
       "     u'lat': 40.71446,\n",
       "     u'lng': -74.010086,\n",
       "     u'postalCode': u'10007',\n",
       "     u'state': u'NY'},\n",
       "    u'name': u'Conca Cucina Italian Restaurant',\n",
       "    u'referralId': u'v-1545331292'},\n",
       "   {u'categories': [{u'icon': {u'prefix': u'https://ss3.4sqi.net/img/categories_v2/food/italian_',\n",
       "       u'suffix': u'.png'},\n",
       "      u'id': u'4bf58dd8d48988d110941735',\n",
       "      u'name': u'Italian Restaurant',\n",
       "      u'pluralName': u'Italian Restaurants',\n",
       "      u'primary': True,\n",
       "      u'shortName': u'Italian'}],\n",
       "    u'hasPerk': False,\n",
       "    u'id': u'3fd66200f964a520f4e41ee3',\n",
       "    u'location': {u'address': u'124 Chambers St',\n",
       "     u'cc': u'US',\n",
       "     u'city': u'New York',\n",
       "     u'country': u'United States',\n",
       "     u'crossStreet': u'btwn Church St & W Broadway',\n",
       "     u'distance': 549,\n",
       "     u'formattedAddress': [u'124 Chambers St (btwn Church St & W Broadway)',\n",
       "      u'New York, NY 10007',\n",
       "      u'United States'],\n",
       "     u'labeledLatLngs': [{u'label': u'display',\n",
       "       u'lat': 40.71533713859952,\n",
       "       u'lng': -74.00884766217825}],\n",
       "     u'lat': 40.71533713859952,\n",
       "     u'lng': -74.00884766217825,\n",
       "     u'postalCode': u'10007',\n",
       "     u'state': u'NY'},\n",
       "    u'name': u'Ecco',\n",
       "    u'referralId': u'v-1545331292'}]}}"
      ]
     },
     "execution_count": 20,
     "metadata": {},
     "output_type": "execute_result"
    }
   ],
   "source": [
    "results = requests.get(url).json()\n",
    "results"
   ]
  },
  {
   "cell_type": "markdown",
   "metadata": {},
   "source": [
    "#### Get relevant part of JSON and transform it into a *pandas* dataframe"
   ]
  },
  {
   "cell_type": "code",
   "execution_count": 21,
   "metadata": {},
   "outputs": [
    {
     "data": {
      "text/html": [
       "<div>\n",
       "<style scoped>\n",
       "    .dataframe tbody tr th:only-of-type {\n",
       "        vertical-align: middle;\n",
       "    }\n",
       "\n",
       "    .dataframe tbody tr th {\n",
       "        vertical-align: top;\n",
       "    }\n",
       "\n",
       "    .dataframe thead th {\n",
       "        text-align: right;\n",
       "    }\n",
       "</style>\n",
       "<table border=\"1\" class=\"dataframe\">\n",
       "  <thead>\n",
       "    <tr style=\"text-align: right;\">\n",
       "      <th></th>\n",
       "      <th>categories</th>\n",
       "      <th>delivery.id</th>\n",
       "      <th>delivery.provider.icon.name</th>\n",
       "      <th>delivery.provider.icon.prefix</th>\n",
       "      <th>delivery.provider.icon.sizes</th>\n",
       "      <th>delivery.provider.name</th>\n",
       "      <th>delivery.url</th>\n",
       "      <th>hasPerk</th>\n",
       "      <th>id</th>\n",
       "      <th>location.address</th>\n",
       "      <th>...</th>\n",
       "      <th>location.crossStreet</th>\n",
       "      <th>location.distance</th>\n",
       "      <th>location.formattedAddress</th>\n",
       "      <th>location.labeledLatLngs</th>\n",
       "      <th>location.lat</th>\n",
       "      <th>location.lng</th>\n",
       "      <th>location.postalCode</th>\n",
       "      <th>location.state</th>\n",
       "      <th>name</th>\n",
       "      <th>referralId</th>\n",
       "    </tr>\n",
       "  </thead>\n",
       "  <tbody>\n",
       "    <tr>\n",
       "      <th>0</th>\n",
       "      <td>[{u'pluralName': u'Pizza Places', u'primary': ...</td>\n",
       "      <td>294544</td>\n",
       "      <td>/delivery_provider_seamless_20180129.png</td>\n",
       "      <td>https://fastly.4sqi.net/img/general/cap/</td>\n",
       "      <td>[40, 50]</td>\n",
       "      <td>seamless</td>\n",
       "      <td>https://www.seamless.com/menu/harrys-italian-p...</td>\n",
       "      <td>False</td>\n",
       "      <td>4fa862b3e4b0ebff2f749f06</td>\n",
       "      <td>225 Murray St</td>\n",
       "      <td>...</td>\n",
       "      <td>NaN</td>\n",
       "      <td>58</td>\n",
       "      <td>[225 Murray St, New York, NY 10282, United Sta...</td>\n",
       "      <td>[{u'lat': 40.7152177906, u'lng': -74.014739402...</td>\n",
       "      <td>40.715218</td>\n",
       "      <td>-74.014739</td>\n",
       "      <td>10282</td>\n",
       "      <td>NY</td>\n",
       "      <td>Harry's Italian Pizza Bar</td>\n",
       "      <td>v-1545331292</td>\n",
       "    </tr>\n",
       "    <tr>\n",
       "      <th>1</th>\n",
       "      <td>[{u'pluralName': u'Food', u'primary': True, u'...</td>\n",
       "      <td>NaN</td>\n",
       "      <td>NaN</td>\n",
       "      <td>NaN</td>\n",
       "      <td>NaN</td>\n",
       "      <td>NaN</td>\n",
       "      <td>NaN</td>\n",
       "      <td>False</td>\n",
       "      <td>4f3232e219836c91c7bfde94</td>\n",
       "      <td>63 W Broadway</td>\n",
       "      <td>...</td>\n",
       "      <td>NaN</td>\n",
       "      <td>446</td>\n",
       "      <td>[63 W Broadway, New York, NY 10007, United Sta...</td>\n",
       "      <td>[{u'lat': 40.71446, u'lng': -74.010086, u'labe...</td>\n",
       "      <td>40.714460</td>\n",
       "      <td>-74.010086</td>\n",
       "      <td>10007</td>\n",
       "      <td>NY</td>\n",
       "      <td>Conca Cucina Italian Restaurant</td>\n",
       "      <td>v-1545331292</td>\n",
       "    </tr>\n",
       "    <tr>\n",
       "      <th>2</th>\n",
       "      <td>[{u'pluralName': u'Italian Restaurants', u'pri...</td>\n",
       "      <td>NaN</td>\n",
       "      <td>NaN</td>\n",
       "      <td>NaN</td>\n",
       "      <td>NaN</td>\n",
       "      <td>NaN</td>\n",
       "      <td>NaN</td>\n",
       "      <td>False</td>\n",
       "      <td>3fd66200f964a520f4e41ee3</td>\n",
       "      <td>124 Chambers St</td>\n",
       "      <td>...</td>\n",
       "      <td>btwn Church St &amp; W Broadway</td>\n",
       "      <td>549</td>\n",
       "      <td>[124 Chambers St (btwn Church St &amp; W Broadway)...</td>\n",
       "      <td>[{u'lat': 40.7153371386, u'lng': -74.008847662...</td>\n",
       "      <td>40.715337</td>\n",
       "      <td>-74.008848</td>\n",
       "      <td>10007</td>\n",
       "      <td>NY</td>\n",
       "      <td>Ecco</td>\n",
       "      <td>v-1545331292</td>\n",
       "    </tr>\n",
       "  </tbody>\n",
       "</table>\n",
       "<p>3 rows × 23 columns</p>\n",
       "</div>"
      ],
      "text/plain": [
       "                                          categories delivery.id  \\\n",
       "0  [{u'pluralName': u'Pizza Places', u'primary': ...      294544   \n",
       "1  [{u'pluralName': u'Food', u'primary': True, u'...         NaN   \n",
       "2  [{u'pluralName': u'Italian Restaurants', u'pri...         NaN   \n",
       "\n",
       "                delivery.provider.icon.name  \\\n",
       "0  /delivery_provider_seamless_20180129.png   \n",
       "1                                       NaN   \n",
       "2                                       NaN   \n",
       "\n",
       "              delivery.provider.icon.prefix delivery.provider.icon.sizes  \\\n",
       "0  https://fastly.4sqi.net/img/general/cap/                     [40, 50]   \n",
       "1                                       NaN                          NaN   \n",
       "2                                       NaN                          NaN   \n",
       "\n",
       "  delivery.provider.name                                       delivery.url  \\\n",
       "0               seamless  https://www.seamless.com/menu/harrys-italian-p...   \n",
       "1                    NaN                                                NaN   \n",
       "2                    NaN                                                NaN   \n",
       "\n",
       "   hasPerk                        id location.address      ...       \\\n",
       "0    False  4fa862b3e4b0ebff2f749f06    225 Murray St      ...        \n",
       "1    False  4f3232e219836c91c7bfde94    63 W Broadway      ...        \n",
       "2    False  3fd66200f964a520f4e41ee3  124 Chambers St      ...        \n",
       "\n",
       "          location.crossStreet location.distance  \\\n",
       "0                          NaN                58   \n",
       "1                          NaN               446   \n",
       "2  btwn Church St & W Broadway               549   \n",
       "\n",
       "                           location.formattedAddress  \\\n",
       "0  [225 Murray St, New York, NY 10282, United Sta...   \n",
       "1  [63 W Broadway, New York, NY 10007, United Sta...   \n",
       "2  [124 Chambers St (btwn Church St & W Broadway)...   \n",
       "\n",
       "                             location.labeledLatLngs  location.lat  \\\n",
       "0  [{u'lat': 40.7152177906, u'lng': -74.014739402...     40.715218   \n",
       "1  [{u'lat': 40.71446, u'lng': -74.010086, u'labe...     40.714460   \n",
       "2  [{u'lat': 40.7153371386, u'lng': -74.008847662...     40.715337   \n",
       "\n",
       "  location.lng location.postalCode  location.state  \\\n",
       "0   -74.014739               10282              NY   \n",
       "1   -74.010086               10007              NY   \n",
       "2   -74.008848               10007              NY   \n",
       "\n",
       "                              name    referralId  \n",
       "0        Harry's Italian Pizza Bar  v-1545331292  \n",
       "1  Conca Cucina Italian Restaurant  v-1545331292  \n",
       "2                             Ecco  v-1545331292  \n",
       "\n",
       "[3 rows x 23 columns]"
      ]
     },
     "execution_count": 21,
     "metadata": {},
     "output_type": "execute_result"
    }
   ],
   "source": [
    "# assign relevant part of JSON to venues\n",
    "venues = results['response']['venues']\n",
    "\n",
    "# tranform venues into a dataframe\n",
    "dataframe = json_normalize(venues)\n",
    "dataframe.head()"
   ]
  },
  {
   "cell_type": "markdown",
   "metadata": {},
   "source": [
    "#### Define information of interest and filter dataframe"
   ]
  },
  {
   "cell_type": "code",
   "execution_count": 22,
   "metadata": {},
   "outputs": [
    {
     "data": {
      "text/html": [
       "<div>\n",
       "<style scoped>\n",
       "    .dataframe tbody tr th:only-of-type {\n",
       "        vertical-align: middle;\n",
       "    }\n",
       "\n",
       "    .dataframe tbody tr th {\n",
       "        vertical-align: top;\n",
       "    }\n",
       "\n",
       "    .dataframe thead th {\n",
       "        text-align: right;\n",
       "    }\n",
       "</style>\n",
       "<table border=\"1\" class=\"dataframe\">\n",
       "  <thead>\n",
       "    <tr style=\"text-align: right;\">\n",
       "      <th></th>\n",
       "      <th>name</th>\n",
       "      <th>categories</th>\n",
       "      <th>address</th>\n",
       "      <th>cc</th>\n",
       "      <th>city</th>\n",
       "      <th>country</th>\n",
       "      <th>crossStreet</th>\n",
       "      <th>distance</th>\n",
       "      <th>formattedAddress</th>\n",
       "      <th>labeledLatLngs</th>\n",
       "      <th>lat</th>\n",
       "      <th>lng</th>\n",
       "      <th>postalCode</th>\n",
       "      <th>state</th>\n",
       "      <th>id</th>\n",
       "    </tr>\n",
       "  </thead>\n",
       "  <tbody>\n",
       "    <tr>\n",
       "      <th>0</th>\n",
       "      <td>Harry's Italian Pizza Bar</td>\n",
       "      <td>Pizza Place</td>\n",
       "      <td>225 Murray St</td>\n",
       "      <td>US</td>\n",
       "      <td>New York</td>\n",
       "      <td>United States</td>\n",
       "      <td>NaN</td>\n",
       "      <td>58</td>\n",
       "      <td>[225 Murray St, New York, NY 10282, United Sta...</td>\n",
       "      <td>[{u'lat': 40.7152177906, u'lng': -74.014739402...</td>\n",
       "      <td>40.715218</td>\n",
       "      <td>-74.014739</td>\n",
       "      <td>10282</td>\n",
       "      <td>NY</td>\n",
       "      <td>4fa862b3e4b0ebff2f749f06</td>\n",
       "    </tr>\n",
       "    <tr>\n",
       "      <th>1</th>\n",
       "      <td>Conca Cucina Italian Restaurant</td>\n",
       "      <td>Food</td>\n",
       "      <td>63 W Broadway</td>\n",
       "      <td>US</td>\n",
       "      <td>New York</td>\n",
       "      <td>United States</td>\n",
       "      <td>NaN</td>\n",
       "      <td>446</td>\n",
       "      <td>[63 W Broadway, New York, NY 10007, United Sta...</td>\n",
       "      <td>[{u'lat': 40.71446, u'lng': -74.010086, u'labe...</td>\n",
       "      <td>40.714460</td>\n",
       "      <td>-74.010086</td>\n",
       "      <td>10007</td>\n",
       "      <td>NY</td>\n",
       "      <td>4f3232e219836c91c7bfde94</td>\n",
       "    </tr>\n",
       "    <tr>\n",
       "      <th>2</th>\n",
       "      <td>Ecco</td>\n",
       "      <td>Italian Restaurant</td>\n",
       "      <td>124 Chambers St</td>\n",
       "      <td>US</td>\n",
       "      <td>New York</td>\n",
       "      <td>United States</td>\n",
       "      <td>btwn Church St &amp; W Broadway</td>\n",
       "      <td>549</td>\n",
       "      <td>[124 Chambers St (btwn Church St &amp; W Broadway)...</td>\n",
       "      <td>[{u'lat': 40.7153371386, u'lng': -74.008847662...</td>\n",
       "      <td>40.715337</td>\n",
       "      <td>-74.008848</td>\n",
       "      <td>10007</td>\n",
       "      <td>NY</td>\n",
       "      <td>3fd66200f964a520f4e41ee3</td>\n",
       "    </tr>\n",
       "  </tbody>\n",
       "</table>\n",
       "</div>"
      ],
      "text/plain": [
       "                              name          categories          address  cc  \\\n",
       "0        Harry's Italian Pizza Bar         Pizza Place    225 Murray St  US   \n",
       "1  Conca Cucina Italian Restaurant                Food    63 W Broadway  US   \n",
       "2                             Ecco  Italian Restaurant  124 Chambers St  US   \n",
       "\n",
       "       city        country                  crossStreet  distance  \\\n",
       "0  New York  United States                          NaN        58   \n",
       "1  New York  United States                          NaN       446   \n",
       "2  New York  United States  btwn Church St & W Broadway       549   \n",
       "\n",
       "                                    formattedAddress  \\\n",
       "0  [225 Murray St, New York, NY 10282, United Sta...   \n",
       "1  [63 W Broadway, New York, NY 10007, United Sta...   \n",
       "2  [124 Chambers St (btwn Church St & W Broadway)...   \n",
       "\n",
       "                                      labeledLatLngs        lat        lng  \\\n",
       "0  [{u'lat': 40.7152177906, u'lng': -74.014739402...  40.715218 -74.014739   \n",
       "1  [{u'lat': 40.71446, u'lng': -74.010086, u'labe...  40.714460 -74.010086   \n",
       "2  [{u'lat': 40.7153371386, u'lng': -74.008847662...  40.715337 -74.008848   \n",
       "\n",
       "  postalCode state                        id  \n",
       "0      10282    NY  4fa862b3e4b0ebff2f749f06  \n",
       "1      10007    NY  4f3232e219836c91c7bfde94  \n",
       "2      10007    NY  3fd66200f964a520f4e41ee3  "
      ]
     },
     "execution_count": 22,
     "metadata": {},
     "output_type": "execute_result"
    }
   ],
   "source": [
    "# keep only columns that include venue name, and anything that is associated with location\n",
    "filtered_columns = ['name', 'categories'] + [col for col in dataframe.columns if col.startswith('location.')] + ['id']\n",
    "dataframe_filtered = dataframe.loc[:, filtered_columns]\n",
    "\n",
    "# function that extracts the category of the venue\n",
    "def get_category_type(row):\n",
    "    try:\n",
    "        categories_list = row['categories']\n",
    "    except:\n",
    "        categories_list = row['venue.categories']\n",
    "        \n",
    "    if len(categories_list) == 0:\n",
    "        return None\n",
    "    else:\n",
    "        return categories_list[0]['name']\n",
    "\n",
    "# filter the category for each row\n",
    "dataframe_filtered['categories'] = dataframe_filtered.apply(get_category_type, axis=1)\n",
    "\n",
    "# clean column names by keeping only last term\n",
    "dataframe_filtered.columns = [column.split('.')[-1] for column in dataframe_filtered.columns]\n",
    "\n",
    "dataframe_filtered"
   ]
  },
  {
   "cell_type": "markdown",
   "metadata": {},
   "source": [
    "#### Let's visualize the Italian restaurants that are nearby"
   ]
  },
  {
   "cell_type": "code",
   "execution_count": 23,
   "metadata": {},
   "outputs": [
    {
     "data": {
      "text/plain": [
       "0          Harry's Italian Pizza Bar\n",
       "1    Conca Cucina Italian Restaurant\n",
       "2                               Ecco\n",
       "Name: name, dtype: object"
      ]
     },
     "execution_count": 23,
     "metadata": {},
     "output_type": "execute_result"
    }
   ],
   "source": [
    "dataframe_filtered.name"
   ]
  },
  {
   "cell_type": "code",
   "execution_count": 24,
   "metadata": {},
   "outputs": [
    {
     "data": {
      "text/html": [
       "<div style=\"width:100%;\"><div style=\"position:relative;width:100%;height:0;padding-bottom:60%;\"><iframe src=\"data:text/html;charset=utf-8;base64,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\" style=\"position:absolute;width:100%;height:100%;left:0;top:0;border:none !important;\" allowfullscreen webkitallowfullscreen mozallowfullscreen></iframe></div></div>"
      ],
      "text/plain": [
       "<folium.folium.Map at 0x1124305d0>"
      ]
     },
     "execution_count": 24,
     "metadata": {},
     "output_type": "execute_result"
    }
   ],
   "source": [
    "venues_map = folium.Map(location=[latitude, longitude], zoom_start=13) # generate map centred around the Conrad Hotel\n",
    "\n",
    "# add a red circle marker to represent the Conrad Hotel\n",
    "folium.features.CircleMarker(\n",
    "    [latitude, longitude],\n",
    "    radius=10,\n",
    "    color='red',\n",
    "    popup='Conrad Hotel',\n",
    "    fill = True,\n",
    "    fill_color = 'red',\n",
    "    fill_opacity = 0.6\n",
    ").add_to(venues_map)\n",
    "\n",
    "# add the Italian restaurants as blue circle markers\n",
    "for lat, lng, label in zip(dataframe_filtered.lat, dataframe_filtered.lng, dataframe_filtered.categories):\n",
    "    folium.features.CircleMarker(\n",
    "        [lat, lng],\n",
    "        radius=5,\n",
    "        color='blue',\n",
    "        popup=label,\n",
    "        fill = True,\n",
    "        fill_color='blue',\n",
    "        fill_opacity=0.6\n",
    "    ).add_to(venues_map)\n",
    "\n",
    "# display map\n",
    "venues_map"
   ]
  },
  {
   "cell_type": "markdown",
   "metadata": {},
   "source": [
    "## 2. Explore a Given Venue\n",
    "> `https://api.foursquare.com/v2/venues/`**VENUE_ID**`?client_id=`**CLIENT_ID**`&client_secret=`**CLIENT_SECRET**`&v=`**VERSION**"
   ]
  },
  {
   "cell_type": "markdown",
   "metadata": {},
   "source": [
    "### A. Let's explore the closest Italian restaurant -- _Harry's Italian Pizza Bar_"
   ]
  },
  {
   "cell_type": "code",
   "execution_count": 25,
   "metadata": {},
   "outputs": [
    {
     "data": {
      "text/plain": [
       "'https://api.foursquare.com/v2/venues/4fa862b3e4b0ebff2f749f06?client_id=KOPEIOPPWWFBAAYUQVKQ55WUSQJE3OOCEJ01W1CUCQI3Q1PF&client_secret=RVJ1RH220QUNK2JZNZMDO4UMWVYPBK4E43MEHCSESSB2GI4W&v=20180604'"
      ]
     },
     "execution_count": 25,
     "metadata": {},
     "output_type": "execute_result"
    }
   ],
   "source": [
    "venue_id = '4fa862b3e4b0ebff2f749f06' # ID of Harry's Italian Pizza Bar\n",
    "url = 'https://api.foursquare.com/v2/venues/{}?client_id={}&client_secret={}&v={}'.format(venue_id, CLIENT_ID, CLIENT_SECRET, VERSION)\n",
    "url"
   ]
  },
  {
   "cell_type": "markdown",
   "metadata": {},
   "source": [
    "#### Send GET request for result"
   ]
  },
  {
   "cell_type": "code",
   "execution_count": 28,
   "metadata": {},
   "outputs": [
    {
     "name": "stdout",
     "output_type": "stream",
     "text": [
      "[u'rating', u'reasons', u'colors', u'likes', u'beenHere', u'id', u'createdAt', u'hasMenu', u'verified', u'shortUrl', u'menu', u'hereNow', u'allowMenuUrlEdit', u'pageUpdates', u'contact', u'location', u'dislike', u'bestPhoto', u'listed', u'canonicalUrl', u'price', u'delivery', u'photos', u'attributes', u'stats', u'tips', u'categories', u'hours', u'ok', u'name', u'url', u'specials', u'ratingColor', u'ratingSignals', u'popular', u'timeZone', u'inbox']\n"
     ]
    },
    {
     "data": {
      "text/plain": [
       "{u'allowMenuUrlEdit': True,\n",
       " u'attributes': {u'groups': [{u'count': 1,\n",
       "    u'items': [{u'displayName': u'Price',\n",
       "      u'displayValue': u'$$',\n",
       "      u'priceTier': 2}],\n",
       "    u'name': u'Price',\n",
       "    u'summary': u'$$',\n",
       "    u'type': u'price'},\n",
       "   {u'count': 7,\n",
       "    u'items': [{u'displayName': u'Credit Cards',\n",
       "      u'displayValue': u'Yes (incl. American Express)'}],\n",
       "    u'name': u'Credit Cards',\n",
       "    u'summary': u'Credit Cards',\n",
       "    u'type': u'payments'},\n",
       "   {u'count': 1,\n",
       "    u'items': [{u'displayName': u'Outdoor Seating', u'displayValue': u'Yes'}],\n",
       "    u'name': u'Outdoor Seating',\n",
       "    u'summary': u'Outdoor Seating',\n",
       "    u'type': u'outdoorSeating'},\n",
       "   {u'count': 8,\n",
       "    u'items': [{u'displayName': u'Brunch', u'displayValue': u'Brunch'},\n",
       "     {u'displayName': u'Lunch', u'displayValue': u'Lunch'},\n",
       "     {u'displayName': u'Dinner', u'displayValue': u'Dinner'},\n",
       "     {u'displayName': u'Happy Hour', u'displayValue': u'Happy Hour'}],\n",
       "    u'name': u'Menus',\n",
       "    u'summary': u'Happy Hour, Brunch & more',\n",
       "    u'type': u'serves'},\n",
       "   {u'count': 5,\n",
       "    u'items': [{u'displayName': u'Beer', u'displayValue': u'Beer'},\n",
       "     {u'displayName': u'Wine', u'displayValue': u'Wine'},\n",
       "     {u'displayName': u'Cocktails', u'displayValue': u'Cocktails'}],\n",
       "    u'name': u'Drinks',\n",
       "    u'summary': u'Beer, Wine & Cocktails',\n",
       "    u'type': u'drinks'},\n",
       "   {u'count': 5,\n",
       "    u'items': [{u'displayName': u'Delivery', u'displayValue': u'Delivery'}],\n",
       "    u'name': u'Dining Options',\n",
       "    u'summary': u'Delivery',\n",
       "    u'type': u'diningOptions'}]},\n",
       " u'beenHere': {u'count': 0,\n",
       "  u'lastCheckinExpiredAt': 0,\n",
       "  u'marked': False,\n",
       "  u'unconfirmedCount': 0},\n",
       " u'bestPhoto': {u'createdAt': 1336776717,\n",
       "  u'height': 640,\n",
       "  u'id': u'4fad980de4b091b4626c3633',\n",
       "  u'prefix': u'https://fastly.4sqi.net/img/general/',\n",
       "  u'source': {u'name': u'Foursquare for Android',\n",
       "   u'url': u'https://foursquare.com/download/#/android'},\n",
       "  u'suffix': u'/ya1iQFI7pLjuIJp1PGDKlrZS3OJdHCF7tpILMmjv_2w.jpg',\n",
       "  u'visibility': u'public',\n",
       "  u'width': 480},\n",
       " u'canonicalUrl': u'https://foursquare.com/v/harrys-italian-pizza-bar/4fa862b3e4b0ebff2f749f06',\n",
       " u'categories': [{u'icon': {u'prefix': u'https://ss3.4sqi.net/img/categories_v2/food/pizza_',\n",
       "    u'suffix': u'.png'},\n",
       "   u'id': u'4bf58dd8d48988d1ca941735',\n",
       "   u'name': u'Pizza Place',\n",
       "   u'pluralName': u'Pizza Places',\n",
       "   u'primary': True,\n",
       "   u'shortName': u'Pizza'},\n",
       "  {u'icon': {u'prefix': u'https://ss3.4sqi.net/img/categories_v2/food/italian_',\n",
       "    u'suffix': u'.png'},\n",
       "   u'id': u'4bf58dd8d48988d110941735',\n",
       "   u'name': u'Italian Restaurant',\n",
       "   u'pluralName': u'Italian Restaurants',\n",
       "   u'shortName': u'Italian'}],\n",
       " u'colors': {u'algoVersion': 3,\n",
       "  u'highlightColor': {u'photoId': u'4fad980de4b091b4626c3633',\n",
       "   u'value': -13619152},\n",
       "  u'highlightTextColor': {u'photoId': u'4fad980de4b091b4626c3633',\n",
       "   u'value': -1}},\n",
       " u'contact': {u'formattedPhone': u'(212) 608-1007', u'phone': u'2126081007'},\n",
       " u'createdAt': 1336435379,\n",
       " u'delivery': {u'id': u'294544',\n",
       "  u'provider': {u'icon': {u'name': u'/delivery_provider_seamless_20180129.png',\n",
       "    u'prefix': u'https://fastly.4sqi.net/img/general/cap/',\n",
       "    u'sizes': [40, 50]},\n",
       "   u'name': u'seamless'},\n",
       "  u'url': u'https://www.seamless.com/menu/harrys-italian-pizza-bar-225-murray-st-new-york/294544?affiliate=1131&utm_source=foursquare-affiliate-network&utm_medium=affiliate&utm_campaign=1131&utm_content=294544'},\n",
       " u'dislike': False,\n",
       " u'hasMenu': True,\n",
       " u'hereNow': {u'count': 1,\n",
       "  u'groups': [{u'count': 1,\n",
       "    u'items': [],\n",
       "    u'name': u'Other people here',\n",
       "    u'type': u'others'}],\n",
       "  u'summary': u'One other person is here'},\n",
       " u'hours': {u'dayData': [],\n",
       "  u'isLocalHoliday': False,\n",
       "  u'isOpen': True,\n",
       "  u'richStatus': {u'entities': [], u'text': u'Open until Midnight'},\n",
       "  u'status': u'Open until Midnight',\n",
       "  u'timeframes': [{u'days': u'Mon\\u2013Wed, Sun',\n",
       "    u'open': [{u'renderedTime': u'11:30 AM\\u201311:00 PM'}],\n",
       "    u'segments': []},\n",
       "   {u'days': u'Thu\\u2013Sat',\n",
       "    u'includesToday': True,\n",
       "    u'open': [{u'renderedTime': u'11:30 AM\\u2013Midnight'}],\n",
       "    u'segments': []}]},\n",
       " u'id': u'4fa862b3e4b0ebff2f749f06',\n",
       " u'inbox': {u'count': 0, u'items': []},\n",
       " u'likes': {u'count': 117,\n",
       "  u'groups': [{u'count': 117, u'items': [], u'type': u'others'}],\n",
       "  u'summary': u'117 Likes'},\n",
       " u'listed': {u'count': 50,\n",
       "  u'groups': [{u'count': 50,\n",
       "    u'items': [{u'canonicalUrl': u'https://foursquare.com/becca_mcarthur/list/manhattan-haunts',\n",
       "      u'collaborative': False,\n",
       "      u'createdAt': 1336094672,\n",
       "      u'description': u'',\n",
       "      u'editable': False,\n",
       "      u'followers': {u'count': 22},\n",
       "      u'id': u'4fa32fd0e4b04193744746b1',\n",
       "      u'listItems': {u'count': 187,\n",
       "       u'items': [{u'createdAt': 1342934485,\n",
       "         u'id': u'v4fa862b3e4b0ebff2f749f06'}]},\n",
       "      u'name': u'Manhattan Haunts',\n",
       "      u'photo': {u'createdAt': 1317849414,\n",
       "       u'height': 330,\n",
       "       u'id': u'4e8cc9461081e3b3544e12e5',\n",
       "       u'prefix': u'https://fastly.4sqi.net/img/general/',\n",
       "       u'suffix': u'/0NLVU2HC1JF4DXIMKWUFW3QBUT31DC11EFNYYHMJG3NDWAPS.jpg',\n",
       "       u'user': {u'firstName': u'Time Out New York',\n",
       "        u'gender': u'none',\n",
       "        u'id': u'742542',\n",
       "        u'photo': {u'prefix': u'https://fastly.4sqi.net/img/user/',\n",
       "         u'suffix': u'/XXHKCBSQHBORZNSR.jpg'},\n",
       "        u'type': u'page'},\n",
       "       u'visibility': u'public',\n",
       "       u'width': 492},\n",
       "      u'public': True,\n",
       "      u'type': u'others',\n",
       "      u'updatedAt': 1380845377,\n",
       "      u'url': u'/becca_mcarthur/list/manhattan-haunts',\n",
       "      u'user': {u'firstName': u'Becca',\n",
       "       u'gender': u'female',\n",
       "       u'id': u'24592223',\n",
       "       u'lastName': u'McArthur',\n",
       "       u'photo': {u'prefix': u'https://fastly.4sqi.net/img/user/',\n",
       "        u'suffix': u'/24592223-RAW2UYM0GIB1U40K.jpg'}}},\n",
       "     {u'canonicalUrl': u'https://foursquare.com/kinosfault/list/usa-nyc-man-fidi',\n",
       "      u'collaborative': False,\n",
       "      u'createdAt': 1336836475,\n",
       "      u'description': u'Where to go for decent eats in the restaurant wasteland of Downtown NYC aka FiDi, along with Tribeca & Battery Park City.',\n",
       "      u'editable': False,\n",
       "      u'followers': {u'count': 20},\n",
       "      u'id': u'4fae817be4b085f6b2a74d19',\n",
       "      u'listItems': {u'count': 272,\n",
       "       u'items': [{u'createdAt': 1373909433,\n",
       "         u'id': u'v4fa862b3e4b0ebff2f749f06'}]},\n",
       "      u'name': u'USA NYC MAN FiDi',\n",
       "      u'photo': {u'createdAt': 1436043666,\n",
       "       u'height': 960,\n",
       "       u'id': u'55984992498e13ba75e353bb',\n",
       "       u'prefix': u'https://fastly.4sqi.net/img/general/',\n",
       "       u'suffix': u'/12113441_iOa6Uh-Xi8bhj2-gpzkkw8MKiAIs7RmOcz_RM7m8ink.jpg',\n",
       "       u'user': {u'firstName': u'Kino',\n",
       "        u'gender': u'male',\n",
       "        u'id': u'12113441',\n",
       "        u'photo': {u'prefix': u'https://fastly.4sqi.net/img/user/',\n",
       "         u'suffix': u'/12113441-K5HTHFLU2MUCM0CM.jpg'}},\n",
       "       u'visibility': u'public',\n",
       "       u'width': 540},\n",
       "      u'public': True,\n",
       "      u'type': u'others',\n",
       "      u'updatedAt': 1536019882,\n",
       "      u'url': u'/kinosfault/list/usa-nyc-man-fidi',\n",
       "      u'user': {u'firstName': u'Kino',\n",
       "       u'gender': u'male',\n",
       "       u'id': u'12113441',\n",
       "       u'photo': {u'prefix': u'https://fastly.4sqi.net/img/user/',\n",
       "        u'suffix': u'/12113441-K5HTHFLU2MUCM0CM.jpg'}}},\n",
       "     {u'canonicalUrl': u'https://foursquare.com/sweetiewill/list/foodie-love-in-ny--02',\n",
       "      u'collaborative': False,\n",
       "      u'createdAt': 1382467210,\n",
       "      u'description': u'',\n",
       "      u'editable': False,\n",
       "      u'followers': {u'count': 7},\n",
       "      u'id': u'5266c68a498e7c667807fe09',\n",
       "      u'listItems': {u'count': 200,\n",
       "       u'items': [{u'createdAt': 1386809936,\n",
       "         u'id': u'v4fa862b3e4b0ebff2f749f06'}]},\n",
       "      u'name': u'Foodie Love in NY - 02',\n",
       "      u'public': True,\n",
       "      u'type': u'others',\n",
       "      u'updatedAt': 1391995585,\n",
       "      u'url': u'/sweetiewill/list/foodie-love-in-ny--02',\n",
       "      u'user': {u'firstName': u'WiLL',\n",
       "       u'gender': u'male',\n",
       "       u'id': u'547977',\n",
       "       u'photo': {u'prefix': u'https://fastly.4sqi.net/img/user/',\n",
       "        u'suffix': u'/-Q5NYGDMFDMOITQRR.jpg'}}},\n",
       "     {u'canonicalUrl': u'https://foursquare.com/rickr7/list/nyc-resturants',\n",
       "      u'collaborative': True,\n",
       "      u'createdAt': 1339944944,\n",
       "      u'description': u'',\n",
       "      u'editable': False,\n",
       "      u'followers': {u'count': 12},\n",
       "      u'id': u'4fddeff0e4b0e078037ac0d3',\n",
       "      u'listItems': {u'count': 198,\n",
       "       u'items': [{u'createdAt': 1514680908,\n",
       "         u'id': u't54ed3b13498e857fd7dbb6fc'}]},\n",
       "      u'name': u'NYC Resturants',\n",
       "      u'photo': {u'createdAt': 1349704979,\n",
       "       u'height': 800,\n",
       "       u'id': u'5072dd13e4b09145cdf782d1',\n",
       "       u'prefix': u'https://fastly.4sqi.net/img/general/',\n",
       "       u'suffix': u'/208205_fGh2OuAZ9qJ4agbAA5wMVNOSIm9kNUlRtNwj1N-adqg.jpg',\n",
       "       u'user': {u'firstName': u'Thalia',\n",
       "        u'gender': u'female',\n",
       "        u'id': u'208205',\n",
       "        u'lastName': u'K',\n",
       "        u'photo': {u'prefix': u'https://fastly.4sqi.net/img/user/',\n",
       "         u'suffix': u'/SNOOLCAW2AG04ZKD.jpg'}},\n",
       "       u'visibility': u'public',\n",
       "       u'width': 800},\n",
       "      u'public': True,\n",
       "      u'type': u'others',\n",
       "      u'updatedAt': 1544180338,\n",
       "      u'url': u'/rickr7/list/nyc-resturants',\n",
       "      u'user': {u'firstName': u'Richard',\n",
       "       u'gender': u'male',\n",
       "       u'id': u'21563126',\n",
       "       u'lastName': u'Revilla',\n",
       "       u'photo': {u'prefix': u'https://fastly.4sqi.net/img/user/',\n",
       "        u'suffix': u'/21563126_v05J1KPw_SVj6Ehq9g8B9jeAGjFUMsU5QGl-NZ8inUQ7pKQm5bKplW37EmR7jS2A7GYPBBAtl.jpg'}}}],\n",
       "    u'name': u'Lists from other people',\n",
       "    u'type': u'others'}]},\n",
       " u'location': {u'address': u'225 Murray St',\n",
       "  u'cc': u'US',\n",
       "  u'city': u'New York',\n",
       "  u'country': u'United States',\n",
       "  u'formattedAddress': [u'225 Murray St',\n",
       "   u'New York, NY 10282',\n",
       "   u'United States'],\n",
       "  u'labeledLatLngs': [{u'label': u'display',\n",
       "    u'lat': 40.71521779064671,\n",
       "    u'lng': -74.01473940209351}],\n",
       "  u'lat': 40.71521779064671,\n",
       "  u'lng': -74.01473940209351,\n",
       "  u'postalCode': u'10282',\n",
       "  u'state': u'NY'},\n",
       " u'menu': {u'anchor': u'View Menu',\n",
       "  u'label': u'Menu',\n",
       "  u'mobileUrl': u'https://foursquare.com/v/4fa862b3e4b0ebff2f749f06/device_menu',\n",
       "  u'type': u'Menu',\n",
       "  u'url': u'https://foursquare.com/v/harrys-italian-pizza-bar/4fa862b3e4b0ebff2f749f06/menu'},\n",
       " u'name': u\"Harry's Italian Pizza Bar\",\n",
       " u'ok': False,\n",
       " u'pageUpdates': {u'count': 0, u'items': []},\n",
       " u'photos': {u'count': 146,\n",
       "  u'groups': [{u'count': 0,\n",
       "    u'items': [],\n",
       "    u'name': u\"Friends' check-in photos\",\n",
       "    u'type': u'checkin'},\n",
       "   {u'count': 146,\n",
       "    u'items': [{u'createdAt': 1336776717,\n",
       "      u'height': 640,\n",
       "      u'id': u'4fad980de4b091b4626c3633',\n",
       "      u'prefix': u'https://fastly.4sqi.net/img/general/',\n",
       "      u'source': {u'name': u'Foursquare for Android',\n",
       "       u'url': u'https://foursquare.com/download/#/android'},\n",
       "      u'suffix': u'/ya1iQFI7pLjuIJp1PGDKlrZS3OJdHCF7tpILMmjv_2w.jpg',\n",
       "      u'user': {u'firstName': u'Leony',\n",
       "       u'gender': u'none',\n",
       "       u'id': u'13676709',\n",
       "       u'lastName': u'Naciri',\n",
       "       u'photo': {u'prefix': u'https://fastly.4sqi.net/img/user/',\n",
       "        u'suffix': u'/T0ANFNGNMCHUDEUE.jpg'}},\n",
       "      u'visibility': u'public',\n",
       "      u'width': 480}],\n",
       "    u'name': u'Venue photos',\n",
       "    u'type': u'venue'}],\n",
       "  u'summary': u'0 photos'},\n",
       " u'popular': {u'isLocalHoliday': False,\n",
       "  u'isOpen': True,\n",
       "  u'richStatus': {u'entities': [], u'text': u'Likely open'},\n",
       "  u'status': u'Likely open',\n",
       "  u'timeframes': [{u'days': u'Today',\n",
       "    u'includesToday': True,\n",
       "    u'open': [{u'renderedTime': u'Noon\\u20132:00 PM'},\n",
       "     {u'renderedTime': u'5:00 PM\\u201310:00 PM'}],\n",
       "    u'segments': []},\n",
       "   {u'days': u'Fri',\n",
       "    u'open': [{u'renderedTime': u'Noon\\u20133:00 PM'},\n",
       "     {u'renderedTime': u'5:00 PM\\u201311:00 PM'}],\n",
       "    u'segments': []},\n",
       "   {u'days': u'Sat',\n",
       "    u'open': [{u'renderedTime': u'Noon\\u201311:00 PM'}],\n",
       "    u'segments': []},\n",
       "   {u'days': u'Sun',\n",
       "    u'open': [{u'renderedTime': u'Noon\\u20133:00 PM'},\n",
       "     {u'renderedTime': u'5:00 PM\\u20138:00 PM'}],\n",
       "    u'segments': []},\n",
       "   {u'days': u'Mon',\n",
       "    u'open': [{u'renderedTime': u'Noon\\u20132:00 PM'},\n",
       "     {u'renderedTime': u'6:00 PM\\u20138:00 PM'}],\n",
       "    u'segments': []},\n",
       "   {u'days': u'Tue\\u2013Wed',\n",
       "    u'open': [{u'renderedTime': u'Noon\\u20132:00 PM'},\n",
       "     {u'renderedTime': u'5:00 PM\\u201310:00 PM'}],\n",
       "    u'segments': []}]},\n",
       " u'price': {u'currency': u'$', u'message': u'Moderate', u'tier': 2},\n",
       " u'rating': 7.1,\n",
       " u'ratingColor': u'C5DE35',\n",
       " u'ratingSignals': 206,\n",
       " u'reasons': {u'count': 1,\n",
       "  u'items': [{u'reasonName': u'rawLikesReason',\n",
       "    u'summary': u'Lots of people like this place',\n",
       "    u'type': u'general'}]},\n",
       " u'shortUrl': u'http://4sq.com/JNblHV',\n",
       " u'specials': {u'count': 0, u'items': []},\n",
       " u'stats': {u'tipCount': 55},\n",
       " u'timeZone': u'America/New_York',\n",
       " u'tips': {u'count': 55,\n",
       "  u'groups': [{u'count': 55,\n",
       "    u'items': [{u'agreeCount': 4,\n",
       "      u'canonicalUrl': u'https://foursquare.com/item/53d27909498e0523841340b6',\n",
       "      u'createdAt': 1406302473,\n",
       "      u'disagreeCount': 0,\n",
       "      u'id': u'53d27909498e0523841340b6',\n",
       "      u'lang': u'en',\n",
       "      u'likes': {u'count': 4,\n",
       "       u'groups': [{u'count': 4,\n",
       "         u'items': [{u'firstName': u'P.',\n",
       "           u'gender': u'male',\n",
       "           u'id': u'369426',\n",
       "           u'lastName': u'M.',\n",
       "           u'photo': {u'prefix': u'https://fastly.4sqi.net/img/user/',\n",
       "            u'suffix': u'/JPQYUWJKUT0H2OO4.jpg'}},\n",
       "          {u'firstName': u'Diane',\n",
       "           u'gender': u'female',\n",
       "           u'id': u'87587879',\n",
       "           u'lastName': u'Danneels',\n",
       "           u'photo': {u'prefix': u'https://fastly.4sqi.net/img/user/',\n",
       "            u'suffix': u'/87587879-ESLRSZLQ2CBE2P4W.jpg'}},\n",
       "          {u'firstName': u'Tim',\n",
       "           u'gender': u'male',\n",
       "           u'id': u'87591341',\n",
       "           u'lastName': u'Sheehan',\n",
       "           u'photo': {u'prefix': u'https://fastly.4sqi.net/img/user/',\n",
       "            u'suffix': u'/-Z4YK4VKE0JSVXIY1.jpg'}},\n",
       "          {u'firstName': u'TenantKing.com',\n",
       "           u'gender': u'none',\n",
       "           u'id': u'87473404',\n",
       "           u'photo': {u'prefix': u'https://fastly.4sqi.net/img/user/',\n",
       "            u'suffix': u'/87473404-HI5DTBTK0HX401CA.png'},\n",
       "           u'type': u'page'}],\n",
       "         u'type': u'others'}],\n",
       "       u'summary': u'4 likes'},\n",
       "      u'logView': True,\n",
       "      u'text': u\"Harry's Italian Pizza bar is known for it's amazing pizza, but did you know that the brunches here are amazing too? Try the Nutella French toast and we know you'll be sold.\",\n",
       "      u'todo': {u'count': 0},\n",
       "      u'type': u'user',\n",
       "      u'user': {u'firstName': u'TenantKing.com',\n",
       "       u'gender': u'none',\n",
       "       u'id': u'87473404',\n",
       "       u'photo': {u'prefix': u'https://fastly.4sqi.net/img/user/',\n",
       "        u'suffix': u'/87473404-HI5DTBTK0HX401CA.png'},\n",
       "       u'type': u'page'}}],\n",
       "    u'name': u'All tips',\n",
       "    u'type': u'others'}]},\n",
       " u'url': u'http://harrysitalian.com',\n",
       " u'verified': False}"
      ]
     },
     "execution_count": 28,
     "metadata": {},
     "output_type": "execute_result"
    }
   ],
   "source": [
    "result = requests.get(url).json()\n",
    "print(result['response']['venue'].keys())\n",
    "result['response']['venue']"
   ]
  },
  {
   "cell_type": "markdown",
   "metadata": {},
   "source": [
    "### B. Get the venue's overall rating"
   ]
  },
  {
   "cell_type": "code",
   "execution_count": 29,
   "metadata": {},
   "outputs": [
    {
     "name": "stdout",
     "output_type": "stream",
     "text": [
      "7.1\n"
     ]
    }
   ],
   "source": [
    "try:\n",
    "    print(result['response']['venue']['rating'])\n",
    "except:\n",
    "    print('This venue has not been rated yet.')"
   ]
  },
  {
   "cell_type": "markdown",
   "metadata": {},
   "source": [
    "That is not a very good rating. Let's check the rating of the second closest Italian restaurant."
   ]
  },
  {
   "cell_type": "markdown",
   "metadata": {},
   "source": [
    "venue_id = '4f3232e219836c91c7bfde94' # ID of Conca Cucina Italian Restaurant\n",
    "url = 'https://api.foursquare.com/v2/venues/{}?client_id={}&client_secret={}&v={}'.format(venue_id, CLIENT_ID, CLIENT_SECRET, VERSION)\n",
    "\n",
    "result = requests.get(url).json()\n",
    "try:\n",
    "    print(result['response']['venue']['rating'])\n",
    "except:\n",
    "    print('This venue has not been rated yet.')"
   ]
  },
  {
   "cell_type": "markdown",
   "metadata": {},
   "source": [
    "Since this restaurant has no ratings, let's check the third restaurant."
   ]
  },
  {
   "cell_type": "code",
   "execution_count": 31,
   "metadata": {},
   "outputs": [
    {
     "name": "stdout",
     "output_type": "stream",
     "text": [
      "7.8\n"
     ]
    }
   ],
   "source": [
    "venue_id = '3fd66200f964a520f4e41ee3' # ID of Ecco\n",
    "url = 'https://api.foursquare.com/v2/venues/{}?client_id={}&client_secret={}&v={}'.format(venue_id, CLIENT_ID, CLIENT_SECRET, VERSION)\n",
    "\n",
    "result = requests.get(url).json()\n",
    "try:\n",
    "    print(result['response']['venue']['rating'])\n",
    "except:\n",
    "    print('This venue has not been rated yet.')"
   ]
  },
  {
   "cell_type": "markdown",
   "metadata": {},
   "source": [
    "Since this restaurant has a slightly better rating, let's explore it further."
   ]
  },
  {
   "cell_type": "markdown",
   "metadata": {},
   "source": [
    "### C. Get the number of tips"
   ]
  },
  {
   "cell_type": "code",
   "execution_count": 33,
   "metadata": {},
   "outputs": [
    {
     "data": {
      "text/plain": [
       "16"
      ]
     },
     "execution_count": 33,
     "metadata": {},
     "output_type": "execute_result"
    }
   ],
   "source": [
    "result['response']['venue']['tips']['count']"
   ]
  },
  {
   "cell_type": "markdown",
   "metadata": {},
   "source": [
    "### D. Get the venue's tips\n",
    "> `https://api.foursquare.com/v2/venues/`**VENUE_ID**`/tips?client_id=`**CLIENT_ID**`&client_secret=`**CLIENT_SECRET**`&v=`**VERSION**`&limit=`**LIMIT**"
   ]
  },
  {
   "cell_type": "markdown",
   "metadata": {},
   "source": [
    "#### Create URL and send GET request. Make sure to set limit to get all tips"
   ]
  },
  {
   "cell_type": "code",
   "execution_count": 34,
   "metadata": {},
   "outputs": [
    {
     "data": {
      "text/plain": [
       "{u'meta': {u'code': 200, u'requestId': u'5c1be4bedb04f53ab6236fb1'},\n",
       " u'response': {u'tips': {u'count': 16,\n",
       "   u'items': [{u'agreeCount': 2,\n",
       "     u'authorInteractionType': u'liked',\n",
       "     u'canonicalUrl': u'https://foursquare.com/item/5ab1cb46c9a517174651d3fe',\n",
       "     u'createdAt': 1521601350,\n",
       "     u'disagreeCount': 0,\n",
       "     u'id': u'5ab1cb46c9a517174651d3fe',\n",
       "     u'lang': u'en',\n",
       "     u'likes': {u'count': 0, u'groups': []},\n",
       "     u'logView': True,\n",
       "     u'text': u'A+ Italian food! Trust me on this: my mom\\u2019s side of the family is 100% Italian. I was born and bred to know good pasta when I see it, and Ecco is one of my all-time NYC favorites',\n",
       "     u'todo': {u'count': 0},\n",
       "     u'type': u'user',\n",
       "     u'user': {u'firstName': u'Nick',\n",
       "      u'gender': u'male',\n",
       "      u'id': u'484542633',\n",
       "      u'lastName': u'El-Tawil',\n",
       "      u'photo': {u'prefix': u'https://fastly.4sqi.net/img/user/',\n",
       "       u'suffix': u'/484542633_mK2Yum7T_7Tn9fWpndidJsmw2Hof_6T5vJBKCHPLMK5OL-U5ZiJGj51iwBstcpDLYa3Zvhvis.jpg'}}}]}}}"
      ]
     },
     "execution_count": 34,
     "metadata": {},
     "output_type": "execute_result"
    }
   ],
   "source": [
    "## Ecco Tips\n",
    "limit = 15 # set limit to be greater than or equal to the total number of tips\n",
    "url = 'https://api.foursquare.com/v2/venues/{}/tips?client_id={}&client_secret={}&v={}&limit={}'.format(venue_id, CLIENT_ID, CLIENT_SECRET, VERSION, limit)\n",
    "\n",
    "results = requests.get(url).json()\n",
    "results"
   ]
  },
  {
   "cell_type": "markdown",
   "metadata": {},
   "source": [
    "#### Get tips and list of associated features"
   ]
  },
  {
   "cell_type": "code",
   "execution_count": 35,
   "metadata": {},
   "outputs": [
    {
     "data": {
      "text/plain": [
       "[u'lang',\n",
       " u'todo',\n",
       " u'canonicalUrl',\n",
       " u'agreeCount',\n",
       " u'text',\n",
       " u'logView',\n",
       " u'disagreeCount',\n",
       " u'authorInteractionType',\n",
       " u'likes',\n",
       " u'type',\n",
       " u'id',\n",
       " u'createdAt',\n",
       " u'user']"
      ]
     },
     "execution_count": 35,
     "metadata": {},
     "output_type": "execute_result"
    }
   ],
   "source": [
    "tips = results['response']['tips']['items']\n",
    "\n",
    "tip = results['response']['tips']['items'][0]\n",
    "tip.keys()"
   ]
  },
  {
   "cell_type": "markdown",
   "metadata": {},
   "source": [
    "#### Format column width and display all tips"
   ]
  },
  {
   "cell_type": "code",
   "execution_count": 37,
   "metadata": {},
   "outputs": [
    {
     "data": {
      "text/html": [
       "<div>\n",
       "<style scoped>\n",
       "    .dataframe tbody tr th:only-of-type {\n",
       "        vertical-align: middle;\n",
       "    }\n",
       "\n",
       "    .dataframe tbody tr th {\n",
       "        vertical-align: top;\n",
       "    }\n",
       "\n",
       "    .dataframe thead th {\n",
       "        text-align: right;\n",
       "    }\n",
       "</style>\n",
       "<table border=\"1\" class=\"dataframe\">\n",
       "  <thead>\n",
       "    <tr style=\"text-align: right;\">\n",
       "      <th></th>\n",
       "      <th>text</th>\n",
       "      <th>agreeCount</th>\n",
       "      <th>disagreeCount</th>\n",
       "      <th>id</th>\n",
       "      <th>user.firstName</th>\n",
       "      <th>user.lastName</th>\n",
       "      <th>user.gender</th>\n",
       "      <th>user.id</th>\n",
       "    </tr>\n",
       "  </thead>\n",
       "  <tbody>\n",
       "    <tr>\n",
       "      <th>0</th>\n",
       "      <td>A+ Italian food! Trust me on this: my mom’s side of the family is 100% Italian. I was born and bred to know good pasta when I see it, and Ecco is one of my all-time NYC favorites</td>\n",
       "      <td>2</td>\n",
       "      <td>0</td>\n",
       "      <td>5ab1cb46c9a517174651d3fe</td>\n",
       "      <td>Nick</td>\n",
       "      <td>El-Tawil</td>\n",
       "      <td>male</td>\n",
       "      <td>484542633</td>\n",
       "    </tr>\n",
       "  </tbody>\n",
       "</table>\n",
       "</div>"
      ],
      "text/plain": [
       "                                                                                                                                                                                 text  \\\n",
       "0  A+ Italian food! Trust me on this: my mom’s side of the family is 100% Italian. I was born and bred to know good pasta when I see it, and Ecco is one of my all-time NYC favorites   \n",
       "\n",
       "   agreeCount  disagreeCount                        id user.firstName  \\\n",
       "0  2           0              5ab1cb46c9a517174651d3fe  Nick            \n",
       "\n",
       "  user.lastName user.gender    user.id  \n",
       "0  El-Tawil      male        484542633  "
      ]
     },
     "execution_count": 37,
     "metadata": {},
     "output_type": "execute_result"
    }
   ],
   "source": [
    "pd.set_option('display.max_colwidth', -1)\n",
    "\n",
    "tips_df = json_normalize(tips) # json normalize tips\n",
    "\n",
    "# columns to keep\n",
    "filtered_columns = ['text', 'agreeCount', 'disagreeCount', 'id', 'user.firstName', 'user.lastName', 'user.gender', 'user.id']\n",
    "tips_filtered = tips_df.loc[:, filtered_columns]\n",
    "\n",
    "# display tips\n",
    "tips_filtered"
   ]
  },
  {
   "cell_type": "markdown",
   "metadata": {},
   "source": [
    "Now remember that because we are using a personal developer account, then we can access only 2 of the restaurant's tips, instead of all 15 tips."
   ]
  },
  {
   "cell_type": "markdown",
   "metadata": {},
   "source": [
    "## 3. Search a Foursquare User\n",
    "> `https://api.foursquare.com/v2/users/`**USER_ID**`?client_id=`**CLIENT_ID**`&client_secret=`**CLIENT_SECRET**`&v=`**VERSION**"
   ]
  },
  {
   "cell_type": "markdown",
   "metadata": {},
   "source": [
    "### Define URL, send GET request and display features associated with user"
   ]
  },
  {
   "cell_type": "code",
   "execution_count": 38,
   "metadata": {},
   "outputs": [
    {
     "data": {
      "text/plain": [
       "[u'checkins',\n",
       " u'bio',\n",
       " u'gender',\n",
       " u'type',\n",
       " u'canonicalUrl',\n",
       " u'firstName',\n",
       " u'lastName',\n",
       " u'lists',\n",
       " u'homeCity',\n",
       " u'photos',\n",
       " u'contact',\n",
       " u'photo',\n",
       " u'tips',\n",
       " u'mayorships',\n",
       " u'friends',\n",
       " u'id',\n",
       " u'lenses']"
      ]
     },
     "execution_count": 38,
     "metadata": {},
     "output_type": "execute_result"
    }
   ],
   "source": [
    "user_id = '484542633' # user ID with most agree counts and complete profile\n",
    "\n",
    "url = 'https://api.foursquare.com/v2/users/{}?client_id={}&client_secret={}&v={}'.format(user_id, CLIENT_ID, CLIENT_SECRET, VERSION) # define URL\n",
    "\n",
    "# send GET request\n",
    "results = requests.get(url).json()\n",
    "user_data = results['response']['user']\n",
    "\n",
    "# display features associated with user\n",
    "user_data.keys()"
   ]
  },
  {
   "cell_type": "code",
   "execution_count": 39,
   "metadata": {},
   "outputs": [
    {
     "name": "stdout",
     "output_type": "stream",
     "text": [
      "First Name: Nick\n",
      "Last Name: El-Tawil\n",
      "Home City: New York, NY\n"
     ]
    }
   ],
   "source": [
    "print('First Name: ' + user_data['firstName'])\n",
    "print('Last Name: ' + user_data['lastName'])\n",
    "print('Home City: ' + user_data['homeCity'])"
   ]
  },
  {
   "cell_type": "markdown",
   "metadata": {},
   "source": [
    "#### How many tips has this user submitted?"
   ]
  },
  {
   "cell_type": "code",
   "execution_count": 41,
   "metadata": {},
   "outputs": [
    {
     "data": {
      "text/plain": [
       "{u'count': 246}"
      ]
     },
     "execution_count": 41,
     "metadata": {},
     "output_type": "execute_result"
    }
   ],
   "source": [
    "user_data['tips']"
   ]
  },
  {
   "cell_type": "markdown",
   "metadata": {},
   "source": [
    "Wow! So it turns out that Nick is a very active Foursquare user, with more than 240 tips."
   ]
  },
  {
   "cell_type": "markdown",
   "metadata": {},
   "source": [
    "### Get User's tips"
   ]
  },
  {
   "cell_type": "code",
   "execution_count": 42,
   "metadata": {},
   "outputs": [
    {
     "data": {
      "text/html": [
       "<div>\n",
       "<style scoped>\n",
       "    .dataframe tbody tr th:only-of-type {\n",
       "        vertical-align: middle;\n",
       "    }\n",
       "\n",
       "    .dataframe tbody tr th {\n",
       "        vertical-align: top;\n",
       "    }\n",
       "\n",
       "    .dataframe thead th {\n",
       "        text-align: right;\n",
       "    }\n",
       "</style>\n",
       "<table border=\"1\" class=\"dataframe\">\n",
       "  <thead>\n",
       "    <tr style=\"text-align: right;\">\n",
       "      <th></th>\n",
       "      <th>text</th>\n",
       "      <th>agreeCount</th>\n",
       "      <th>disagreeCount</th>\n",
       "      <th>id</th>\n",
       "    </tr>\n",
       "  </thead>\n",
       "  <tbody>\n",
       "    <tr>\n",
       "      <th>0</th>\n",
       "      <td>The best! I’m especially fond of the salmon burger, but I’ve had half of the menu and never been disappointed. There’s a reason this place is well known even outside of the Village!</td>\n",
       "      <td>1</td>\n",
       "      <td>0</td>\n",
       "      <td>5aec594b1f7440002c138612</td>\n",
       "    </tr>\n",
       "    <tr>\n",
       "      <th>1</th>\n",
       "      <td>I used to down a pint of chocolate like it was nothing back when I was bulking. Highly recommended!</td>\n",
       "      <td>1</td>\n",
       "      <td>0</td>\n",
       "      <td>5accc9f66fa81f196724807b</td>\n",
       "    </tr>\n",
       "    <tr>\n",
       "      <th>2</th>\n",
       "      <td>They serve coffee!!!!!!</td>\n",
       "      <td>1</td>\n",
       "      <td>0</td>\n",
       "      <td>5accc98c0313204c9d7ec157</td>\n",
       "    </tr>\n",
       "    <tr>\n",
       "      <th>3</th>\n",
       "      <td>I’m a fan. In fact, I’m such a big fan, I want Taim to hire me to be their spokesman. Kind of like the Arabic Jared Fogle - but without the kid stuff.</td>\n",
       "      <td>1</td>\n",
       "      <td>0</td>\n",
       "      <td>5accbf033abcaf09a24612a0</td>\n",
       "    </tr>\n",
       "    <tr>\n",
       "      <th>4</th>\n",
       "      <td>The linguine with clams is on point 👌</td>\n",
       "      <td>1</td>\n",
       "      <td>0</td>\n",
       "      <td>5accbe3a911fc423730f3ed3</td>\n",
       "    </tr>\n",
       "    <tr>\n",
       "      <th>5</th>\n",
       "      <td>Great for a quick, cheap lunch! Shorter lines than Chipotle too👌</td>\n",
       "      <td>1</td>\n",
       "      <td>0</td>\n",
       "      <td>5acbecb86fa81f1967e019b0</td>\n",
       "    </tr>\n",
       "    <tr>\n",
       "      <th>6</th>\n",
       "      <td>Quick, cheap lunch that tastes good! Way shorter line than Chipotle, too.</td>\n",
       "      <td>1</td>\n",
       "      <td>0</td>\n",
       "      <td>5acbec70a0215b732e264fe8</td>\n",
       "    </tr>\n",
       "    <tr>\n",
       "      <th>7</th>\n",
       "      <td>Great for a quick, cheap bite. I stop by when I’m in the neighborhood and don’t have much time to eat.</td>\n",
       "      <td>1</td>\n",
       "      <td>0</td>\n",
       "      <td>5acbec0c6fa81f1967dfeba3</td>\n",
       "    </tr>\n",
       "    <tr>\n",
       "      <th>8</th>\n",
       "      <td>You’re not a real New Yorker until you’ve shame-ordered Insomnia Cookies for delivery at 3am</td>\n",
       "      <td>1</td>\n",
       "      <td>0</td>\n",
       "      <td>5acbbd4eb1538e45373b07f5</td>\n",
       "    </tr>\n",
       "    <tr>\n",
       "      <th>9</th>\n",
       "      <td>Good for you yet still tasty! Clean green protein is my go-to after I hit the gym 💪</td>\n",
       "      <td>1</td>\n",
       "      <td>0</td>\n",
       "      <td>5acbbcda01235808d5d6dc75</td>\n",
       "    </tr>\n",
       "    <tr>\n",
       "      <th>10</th>\n",
       "      <td>Coffee game on point</td>\n",
       "      <td>1</td>\n",
       "      <td>0</td>\n",
       "      <td>5acbbb1501235808d5d6525e</td>\n",
       "    </tr>\n",
       "    <tr>\n",
       "      <th>11</th>\n",
       "      <td>This is the dive bar to end all other dive bars. Go here if you like cheap drinks! 🥃</td>\n",
       "      <td>1</td>\n",
       "      <td>0</td>\n",
       "      <td>5ab576abea1e444f2abb051e</td>\n",
       "    </tr>\n",
       "    <tr>\n",
       "      <th>12</th>\n",
       "      <td>Burger game strong 💪</td>\n",
       "      <td>1</td>\n",
       "      <td>0</td>\n",
       "      <td>5ab575fb6bdee65f759da8c1</td>\n",
       "    </tr>\n",
       "    <tr>\n",
       "      <th>13</th>\n",
       "      <td>Great burgers &amp; fries! Also, this place is exactly what it’s like when you go to a bar in the Southwest. Source: I’m from Arizona.</td>\n",
       "      <td>2</td>\n",
       "      <td>0</td>\n",
       "      <td>5ab5575d73fe2516ad8f363b</td>\n",
       "    </tr>\n",
       "    <tr>\n",
       "      <th>14</th>\n",
       "      <td>That guy looks familiar...</td>\n",
       "      <td>1</td>\n",
       "      <td>0</td>\n",
       "      <td>5ab5299635f98312029a53b7</td>\n",
       "    </tr>\n",
       "  </tbody>\n",
       "</table>\n",
       "</div>"
      ],
      "text/plain": [
       "                                                                                                                                                                                     text  \\\n",
       "0   The best! I’m especially fond of the salmon burger, but I’ve had half of the menu and never been disappointed. There’s a reason this place is well known even outside of the Village!   \n",
       "1   I used to down a pint of chocolate like it was nothing back when I was bulking. Highly recommended!                                                                                     \n",
       "2   They serve coffee!!!!!!                                                                                                                                                                 \n",
       "3   I’m a fan. In fact, I’m such a big fan, I want Taim to hire me to be their spokesman. Kind of like the Arabic Jared Fogle - but without the kid stuff.                                  \n",
       "4   The linguine with clams is on point 👌                                                                                                                                                  \n",
       "5   Great for a quick, cheap lunch! Shorter lines than Chipotle too👌                                                                                                                       \n",
       "6   Quick, cheap lunch that tastes good! Way shorter line than Chipotle, too.                                                                                                               \n",
       "7   Great for a quick, cheap bite. I stop by when I’m in the neighborhood and don’t have much time to eat.                                                                                  \n",
       "8   You’re not a real New Yorker until you’ve shame-ordered Insomnia Cookies for delivery at 3am                                                                                            \n",
       "9   Good for you yet still tasty! Clean green protein is my go-to after I hit the gym 💪                                                                                                    \n",
       "10  Coffee game on point                                                                                                                                                                    \n",
       "11  This is the dive bar to end all other dive bars. Go here if you like cheap drinks! 🥃                                                                                                   \n",
       "12  Burger game strong 💪                                                                                                                                                                   \n",
       "13  Great burgers & fries! Also, this place is exactly what it’s like when you go to a bar in the Southwest. Source: I’m from Arizona.                                                      \n",
       "14  That guy looks familiar...                                                                                                                                                              \n",
       "\n",
       "    agreeCount  disagreeCount                        id  \n",
       "0   1           0              5aec594b1f7440002c138612  \n",
       "1   1           0              5accc9f66fa81f196724807b  \n",
       "2   1           0              5accc98c0313204c9d7ec157  \n",
       "3   1           0              5accbf033abcaf09a24612a0  \n",
       "4   1           0              5accbe3a911fc423730f3ed3  \n",
       "5   1           0              5acbecb86fa81f1967e019b0  \n",
       "6   1           0              5acbec70a0215b732e264fe8  \n",
       "7   1           0              5acbec0c6fa81f1967dfeba3  \n",
       "8   1           0              5acbbd4eb1538e45373b07f5  \n",
       "9   1           0              5acbbcda01235808d5d6dc75  \n",
       "10  1           0              5acbbb1501235808d5d6525e  \n",
       "11  1           0              5ab576abea1e444f2abb051e  \n",
       "12  1           0              5ab575fb6bdee65f759da8c1  \n",
       "13  2           0              5ab5575d73fe2516ad8f363b  \n",
       "14  1           0              5ab5299635f98312029a53b7  "
      ]
     },
     "execution_count": 42,
     "metadata": {},
     "output_type": "execute_result"
    }
   ],
   "source": [
    "# define tips URL\n",
    "url = 'https://api.foursquare.com/v2/users/{}/tips?client_id={}&client_secret={}&v={}&limit={}'.format(user_id, CLIENT_ID, CLIENT_SECRET, VERSION, limit)\n",
    "\n",
    "# send GET request and get user's tips\n",
    "results = requests.get(url).json()\n",
    "tips = results['response']['tips']['items']\n",
    "\n",
    "# format column width\n",
    "pd.set_option('display.max_colwidth', -1)\n",
    "\n",
    "tips_df = json_normalize(tips)\n",
    "\n",
    "# filter columns\n",
    "filtered_columns = ['text', 'agreeCount', 'disagreeCount', 'id']\n",
    "tips_filtered = tips_df.loc[:, filtered_columns]\n",
    "\n",
    "# display user's tips\n",
    "tips_filtered"
   ]
  },
  {
   "cell_type": "markdown",
   "metadata": {},
   "source": [
    "#### Let's get the venue for the tip with the greatest number of agree counts"
   ]
  },
  {
   "cell_type": "code",
   "execution_count": 43,
   "metadata": {},
   "outputs": [
    {
     "name": "stdout",
     "output_type": "stream",
     "text": [
      "Cowgirl\n",
      "{u'city': u'New York', u'labeledLatLngs': [{u'lat': 40.73375031678678, u'lng': -74.00628236760791, u'label': u'display'}], u'cc': u'US', u'country': u'United States', u'postalCode': u'10014', u'state': u'NY', u'formattedAddress': [u'519 Hudson St (at W 10th St)', u'New York, NY 10014', u'United States'], u'crossStreet': u'at W 10th St', u'address': u'519 Hudson St', u'lat': 40.73375031678678, u'lng': -74.00628236760791}\n"
     ]
    }
   ],
   "source": [
    "tip_id = '5ab5575d73fe2516ad8f363b' # tip id\n",
    "\n",
    "# define URL\n",
    "url = 'http://api.foursquare.com/v2/tips/{}?client_id={}&client_secret={}&v={}'.format(tip_id, CLIENT_ID, CLIENT_SECRET, VERSION)\n",
    "\n",
    "# send GET Request and examine results\n",
    "result = requests.get(url).json()\n",
    "print(result['response']['tip']['venue']['name'])\n",
    "print(result['response']['tip']['venue']['location'])"
   ]
  },
  {
   "cell_type": "markdown",
   "metadata": {},
   "source": [
    "### Get User's friends"
   ]
  },
  {
   "cell_type": "code",
   "execution_count": 44,
   "metadata": {},
   "outputs": [
    {
     "data": {
      "text/html": [
       "<div>\n",
       "<style scoped>\n",
       "    .dataframe tbody tr th:only-of-type {\n",
       "        vertical-align: middle;\n",
       "    }\n",
       "\n",
       "    .dataframe tbody tr th {\n",
       "        vertical-align: top;\n",
       "    }\n",
       "\n",
       "    .dataframe thead th {\n",
       "        text-align: right;\n",
       "    }\n",
       "</style>\n",
       "<table border=\"1\" class=\"dataframe\">\n",
       "  <thead>\n",
       "    <tr style=\"text-align: right;\">\n",
       "      <th></th>\n",
       "    </tr>\n",
       "  </thead>\n",
       "  <tbody>\n",
       "  </tbody>\n",
       "</table>\n",
       "</div>"
      ],
      "text/plain": [
       "Empty DataFrame\n",
       "Columns: []\n",
       "Index: []"
      ]
     },
     "execution_count": 44,
     "metadata": {},
     "output_type": "execute_result"
    }
   ],
   "source": [
    "user_friends = json_normalize(user_data['friends']['groups'][0]['items'])\n",
    "user_friends"
   ]
  },
  {
   "cell_type": "markdown",
   "metadata": {},
   "source": [
    "Interesting. Despite being very active, it turns out that Nick does not have any friends on Foursquare. This might definitely change in the future."
   ]
  },
  {
   "cell_type": "code",
   "execution_count": 45,
   "metadata": {},
   "outputs": [],
   "source": [
    "### Retrieve the User's Profile Image"
   ]
  },
  {
   "cell_type": "code",
   "execution_count": 46,
   "metadata": {},
   "outputs": [
    {
     "data": {
      "text/plain": [
       "{u'bio': u'https://www.tawil.team/nick-el-tawil/',\n",
       " u'canonicalUrl': u'https://foursquare.com/nickeltawil',\n",
       " u'checkins': {u'count': 1, u'items': []},\n",
       " u'contact': {},\n",
       " u'firstName': u'Nick',\n",
       " u'friends': {u'count': 0,\n",
       "  u'groups': [{u'count': 0,\n",
       "    u'items': [],\n",
       "    u'name': u'Other friends',\n",
       "    u'type': u'others'}]},\n",
       " u'gender': u'male',\n",
       " u'homeCity': u'New York, NY',\n",
       " u'id': u'484542633',\n",
       " u'lastName': u'El-Tawil',\n",
       " u'lenses': [],\n",
       " u'lists': {u'count': 2,\n",
       "  u'groups': [{u'count': 0, u'items': [], u'type': u'created'},\n",
       "   {u'count': 0, u'items': [], u'type': u'followed'},\n",
       "   {u'count': 2,\n",
       "    u'items': [{u'canonicalUrl': u'https://foursquare.com/nickeltawil/list/todos',\n",
       "      u'collaborative': False,\n",
       "      u'description': u'',\n",
       "      u'editable': False,\n",
       "      u'id': u'484542633/todos',\n",
       "      u'listItems': {u'count': 0},\n",
       "      u'name': u\"Nick's Saved Places\",\n",
       "      u'public': True,\n",
       "      u'type': u'todos',\n",
       "      u'url': u'/nickeltawil/list/todos'},\n",
       "     {u'canonicalUrl': u'https://foursquare.com/nickeltawil/list/venuelikes',\n",
       "      u'collaborative': False,\n",
       "      u'description': u'',\n",
       "      u'editable': False,\n",
       "      u'id': u'484542633/venuelikes',\n",
       "      u'listItems': {u'count': 0},\n",
       "      u'name': u'Nick\\u2019s Liked Places',\n",
       "      u'public': True,\n",
       "      u'type': u'likes',\n",
       "      u'url': u'/nickeltawil/list/venuelikes'}],\n",
       "    u'type': u'yours'}]},\n",
       " u'mayorships': {u'count': 0, u'items': []},\n",
       " u'photo': {u'prefix': u'https://fastly.4sqi.net/img/user/',\n",
       "  u'suffix': u'/484542633_mK2Yum7T_7Tn9fWpndidJsmw2Hof_6T5vJBKCHPLMK5OL-U5ZiJGj51iwBstcpDLYa3Zvhvis.jpg'},\n",
       " u'photos': {u'count': 0, u'items': []},\n",
       " u'tips': {u'count': 246},\n",
       " u'type': u'user'}"
      ]
     },
     "execution_count": 46,
     "metadata": {},
     "output_type": "execute_result"
    }
   ],
   "source": [
    "user_data"
   ]
  },
  {
   "cell_type": "markdown",
   "metadata": {},
   "source": [
    "## 4. Explore a location\n",
    "> `https://api.foursquare.com/v2/venues/`**explore**`?client_id=`**CLIENT_ID**`&client_secret=`**CLIENT_SECRET**`&ll=`**LATITUDE**`,`**LONGITUDE**`&v=`**VERSION**`&limit=`**LIMIT**"
   ]
  },
  {
   "cell_type": "markdown",
   "metadata": {},
   "source": [
    "So, you just finished your gourmet dish at Ecco, and are just curious about the popular spots around the restaurant. In order to explore the area, let's start by getting the latitude and longitude values of Ecco Restaurant."
   ]
  },
  {
   "cell_type": "code",
   "execution_count": 48,
   "metadata": {},
   "outputs": [],
   "source": [
    "latitude = 40.715337\n",
    "longitude = -74.008848"
   ]
  },
  {
   "cell_type": "code",
   "execution_count": 49,
   "metadata": {},
   "outputs": [],
   "source": [
    "#### Define URL"
   ]
  },
  {
   "cell_type": "code",
   "execution_count": 50,
   "metadata": {},
   "outputs": [
    {
     "data": {
      "text/plain": [
       "'https://api.foursquare.com/v2/venues/explore?client_id=KOPEIOPPWWFBAAYUQVKQ55WUSQJE3OOCEJ01W1CUCQI3Q1PF&client_secret=RVJ1RH220QUNK2JZNZMDO4UMWVYPBK4E43MEHCSESSB2GI4W&ll=40.715337,-74.008848&v=20180604&radius=500&limit=30'"
      ]
     },
     "execution_count": 50,
     "metadata": {},
     "output_type": "execute_result"
    }
   ],
   "source": [
    "url = 'https://api.foursquare.com/v2/venues/explore?client_id={}&client_secret={}&ll={},{}&v={}&radius={}&limit={}'.format(CLIENT_ID, CLIENT_SECRET, latitude, longitude, VERSION, radius, LIMIT)\n",
    "url"
   ]
  },
  {
   "cell_type": "code",
   "execution_count": 51,
   "metadata": {},
   "outputs": [],
   "source": [
    "#### Send GET request and examine results"
   ]
  },
  {
   "cell_type": "code",
   "execution_count": 52,
   "metadata": {},
   "outputs": [],
   "source": [
    "import requests"
   ]
  },
  {
   "cell_type": "code",
   "execution_count": 53,
   "metadata": {},
   "outputs": [
    {
     "data": {
      "text/plain": [
       "'There are 30 around Ecco restaurant.'"
      ]
     },
     "execution_count": 53,
     "metadata": {},
     "output_type": "execute_result"
    }
   ],
   "source": [
    "results = requests.get(url).json()\n",
    "'There are {} around Ecco restaurant.'.format(len(results['response']['groups'][0]['items']))"
   ]
  },
  {
   "cell_type": "code",
   "execution_count": 54,
   "metadata": {},
   "outputs": [],
   "source": [
    "#### Get relevant part of JSON"
   ]
  },
  {
   "cell_type": "code",
   "execution_count": 55,
   "metadata": {},
   "outputs": [
    {
     "data": {
      "text/plain": [
       "{u'reasons': {u'count': 0,\n",
       "  u'items': [{u'reasonName': u'globalInteractionReason',\n",
       "    u'summary': u'This spot is popular',\n",
       "    u'type': u'general'}]},\n",
       " u'referralId': u'e-0-4af5d65ff964a52091fd21e3-0',\n",
       " u'venue': {u'categories': [{u'icon': {u'prefix': u'https://ss3.4sqi.net/img/categories_v2/shops/furniture_',\n",
       "     u'suffix': u'.png'},\n",
       "    u'id': u'4bf58dd8d48988d1f8941735',\n",
       "    u'name': u'Furniture / Home Store',\n",
       "    u'pluralName': u'Furniture / Home Stores',\n",
       "    u'primary': True,\n",
       "    u'shortName': u'Furniture / Home'}],\n",
       "  u'id': u'4af5d65ff964a52091fd21e3',\n",
       "  u'location': {u'address': u'57 Warren St',\n",
       "   u'cc': u'US',\n",
       "   u'city': u'New York',\n",
       "   u'country': u'United States',\n",
       "   u'crossStreet': u'Church St',\n",
       "   u'distance': 73,\n",
       "   u'formattedAddress': [u'57 Warren St (Church St)',\n",
       "    u'New York, NY 10007',\n",
       "    u'United States'],\n",
       "   u'labeledLatLngs': [{u'label': u'display',\n",
       "     u'lat': 40.71482437714839,\n",
       "     u'lng': -74.00940425461492}],\n",
       "   u'lat': 40.71482437714839,\n",
       "   u'lng': -74.00940425461492,\n",
       "   u'neighborhood': u'Tribeca',\n",
       "   u'postalCode': u'10007',\n",
       "   u'state': u'NY'},\n",
       "  u'name': u'Korin',\n",
       "  u'photos': {u'count': 0, u'groups': []},\n",
       "  u'venuePage': {u'id': u'33104775'}}}"
      ]
     },
     "execution_count": 55,
     "metadata": {},
     "output_type": "execute_result"
    }
   ],
   "source": [
    "items = results['response']['groups'][0]['items']\n",
    "items[0]"
   ]
  },
  {
   "cell_type": "markdown",
   "metadata": {},
   "source": [
    "#### Process JSON and convert it to a clean dataframe"
   ]
  },
  {
   "cell_type": "code",
   "execution_count": 57,
   "metadata": {},
   "outputs": [
    {
     "data": {
      "text/html": [
       "<div>\n",
       "<style scoped>\n",
       "    .dataframe tbody tr th:only-of-type {\n",
       "        vertical-align: middle;\n",
       "    }\n",
       "\n",
       "    .dataframe tbody tr th {\n",
       "        vertical-align: top;\n",
       "    }\n",
       "\n",
       "    .dataframe thead th {\n",
       "        text-align: right;\n",
       "    }\n",
       "</style>\n",
       "<table border=\"1\" class=\"dataframe\">\n",
       "  <thead>\n",
       "    <tr style=\"text-align: right;\">\n",
       "      <th></th>\n",
       "      <th>name</th>\n",
       "      <th>categories</th>\n",
       "      <th>address</th>\n",
       "      <th>cc</th>\n",
       "      <th>city</th>\n",
       "      <th>country</th>\n",
       "      <th>crossStreet</th>\n",
       "      <th>distance</th>\n",
       "      <th>formattedAddress</th>\n",
       "      <th>labeledLatLngs</th>\n",
       "      <th>lat</th>\n",
       "      <th>lng</th>\n",
       "      <th>neighborhood</th>\n",
       "      <th>postalCode</th>\n",
       "      <th>state</th>\n",
       "      <th>id</th>\n",
       "    </tr>\n",
       "  </thead>\n",
       "  <tbody>\n",
       "    <tr>\n",
       "      <th>0</th>\n",
       "      <td>Korin</td>\n",
       "      <td>Furniture / Home Store</td>\n",
       "      <td>57 Warren St</td>\n",
       "      <td>US</td>\n",
       "      <td>New York</td>\n",
       "      <td>United States</td>\n",
       "      <td>Church St</td>\n",
       "      <td>73</td>\n",
       "      <td>[57 Warren St (Church St), New York, NY 10007, United States]</td>\n",
       "      <td>[{u'lat': 40.7148243771, u'lng': -74.0094042546, u'label': u'display'}]</td>\n",
       "      <td>40.714824</td>\n",
       "      <td>-74.009404</td>\n",
       "      <td>Tribeca</td>\n",
       "      <td>10007</td>\n",
       "      <td>NY</td>\n",
       "      <td>4af5d65ff964a52091fd21e3</td>\n",
       "    </tr>\n",
       "    <tr>\n",
       "      <th>1</th>\n",
       "      <td>Chambers Street Wines</td>\n",
       "      <td>Wine Shop</td>\n",
       "      <td>148 Chambers St</td>\n",
       "      <td>US</td>\n",
       "      <td>New York</td>\n",
       "      <td>United States</td>\n",
       "      <td>btwn West Broadway &amp; Hudson St</td>\n",
       "      <td>88</td>\n",
       "      <td>[148 Chambers St (btwn West Broadway &amp; Hudson St), New York, NY 10007, United States]</td>\n",
       "      <td>[{u'lat': 40.7157730639, u'lng': -74.0097182331, u'label': u'display'}]</td>\n",
       "      <td>40.715773</td>\n",
       "      <td>-74.009718</td>\n",
       "      <td>NaN</td>\n",
       "      <td>10007</td>\n",
       "      <td>NY</td>\n",
       "      <td>4adcf23cf964a520cc6221e3</td>\n",
       "    </tr>\n",
       "    <tr>\n",
       "      <th>2</th>\n",
       "      <td>Takahachi Bakery</td>\n",
       "      <td>Bakery</td>\n",
       "      <td>25 Murray St</td>\n",
       "      <td>US</td>\n",
       "      <td>New York</td>\n",
       "      <td>United States</td>\n",
       "      <td>at Church St</td>\n",
       "      <td>179</td>\n",
       "      <td>[25 Murray St (at Church St), New York, NY 10007, United States]</td>\n",
       "      <td>[{u'lat': 40.7137232263, u'lng': -74.0087326697, u'label': u'display'}]</td>\n",
       "      <td>40.713723</td>\n",
       "      <td>-74.008733</td>\n",
       "      <td>NaN</td>\n",
       "      <td>10007</td>\n",
       "      <td>NY</td>\n",
       "      <td>4c154c9a77cea593c401d260</td>\n",
       "    </tr>\n",
       "    <tr>\n",
       "      <th>3</th>\n",
       "      <td>Takahachi</td>\n",
       "      <td>Sushi Restaurant</td>\n",
       "      <td>145 Duane St</td>\n",
       "      <td>US</td>\n",
       "      <td>New York</td>\n",
       "      <td>United States</td>\n",
       "      <td>btwn W Broadway &amp; Church St</td>\n",
       "      <td>146</td>\n",
       "      <td>[145 Duane St (btwn W Broadway &amp; Church St), New York, NY 10013, United States]</td>\n",
       "      <td>[{u'lat': 40.7165264741, u'lng': -74.0081010847, u'label': u'display'}]</td>\n",
       "      <td>40.716526</td>\n",
       "      <td>-74.008101</td>\n",
       "      <td>NaN</td>\n",
       "      <td>10013</td>\n",
       "      <td>NY</td>\n",
       "      <td>4a8f2f39f964a520471420e3</td>\n",
       "    </tr>\n",
       "    <tr>\n",
       "      <th>4</th>\n",
       "      <td>Juice Press</td>\n",
       "      <td>Vegetarian / Vegan Restaurant</td>\n",
       "      <td>83 Murray St</td>\n",
       "      <td>US</td>\n",
       "      <td>New York</td>\n",
       "      <td>United States</td>\n",
       "      <td>btwn Greenwich St &amp; W Broadway</td>\n",
       "      <td>202</td>\n",
       "      <td>[83 Murray St (btwn Greenwich St &amp; W Broadway), New York, NY 10007, United States]</td>\n",
       "      <td>[{u'lat': 40.7147876991, u'lng': -74.0111317502, u'label': u'display'}]</td>\n",
       "      <td>40.714788</td>\n",
       "      <td>-74.011132</td>\n",
       "      <td>NaN</td>\n",
       "      <td>10007</td>\n",
       "      <td>NY</td>\n",
       "      <td>54148bc6498ea7bb8c05b70a</td>\n",
       "    </tr>\n",
       "    <tr>\n",
       "      <th>5</th>\n",
       "      <td>Nish Nūsh</td>\n",
       "      <td>Falafel Restaurant</td>\n",
       "      <td>88 Reade St</td>\n",
       "      <td>US</td>\n",
       "      <td>New York</td>\n",
       "      <td>United States</td>\n",
       "      <td>at Church St</td>\n",
       "      <td>97</td>\n",
       "      <td>[88 Reade St (at Church St), New York, NY 10013, United States]</td>\n",
       "      <td>[{u'lat': 40.7155371012, u'lng': -74.0077245293, u'label': u'display'}]</td>\n",
       "      <td>40.715537</td>\n",
       "      <td>-74.007725</td>\n",
       "      <td>NaN</td>\n",
       "      <td>10013</td>\n",
       "      <td>NY</td>\n",
       "      <td>50ba9119e4b071a4bae6dc10</td>\n",
       "    </tr>\n",
       "    <tr>\n",
       "      <th>6</th>\n",
       "      <td>Mulberry &amp; Vine</td>\n",
       "      <td>Café</td>\n",
       "      <td>73 Warren St</td>\n",
       "      <td>US</td>\n",
       "      <td>New York</td>\n",
       "      <td>United States</td>\n",
       "      <td>btwn W Broadway &amp; Greenwich St</td>\n",
       "      <td>117</td>\n",
       "      <td>[73 Warren St (btwn W Broadway &amp; Greenwich St), New York, NY 10007, United States]</td>\n",
       "      <td>[{u'lat': 40.7151769397, u'lng': -74.0102274778, u'label': u'display'}]</td>\n",
       "      <td>40.715177</td>\n",
       "      <td>-74.010227</td>\n",
       "      <td>NaN</td>\n",
       "      <td>10007</td>\n",
       "      <td>NY</td>\n",
       "      <td>5171b5cc011cef9833bbb787</td>\n",
       "    </tr>\n",
       "    <tr>\n",
       "      <th>7</th>\n",
       "      <td>Ten Over Ten</td>\n",
       "      <td>Nail Salon</td>\n",
       "      <td>112 Reade St</td>\n",
       "      <td>US</td>\n",
       "      <td>New York</td>\n",
       "      <td>United States</td>\n",
       "      <td>NaN</td>\n",
       "      <td>68</td>\n",
       "      <td>[112 Reade St, New York, NY 10013, United States]</td>\n",
       "      <td>[{u'lat': 40.7159412557, u'lng': -74.0087205356, u'label': u'display'}]</td>\n",
       "      <td>40.715941</td>\n",
       "      <td>-74.008721</td>\n",
       "      <td>NaN</td>\n",
       "      <td>10013</td>\n",
       "      <td>NY</td>\n",
       "      <td>4ce2a27cd58c60fc0fa1a76f</td>\n",
       "    </tr>\n",
       "    <tr>\n",
       "      <th>8</th>\n",
       "      <td>Equinox Tribeca</td>\n",
       "      <td>Gym</td>\n",
       "      <td>54 Murray Street</td>\n",
       "      <td>US</td>\n",
       "      <td>New York</td>\n",
       "      <td>United States</td>\n",
       "      <td>at W Broadway</td>\n",
       "      <td>159</td>\n",
       "      <td>[54 Murray Street (at W Broadway), New York, NY 10007, United States]</td>\n",
       "      <td>[{u'lat': 40.714057, u'lng': -74.009694, u'label': u'display'}]</td>\n",
       "      <td>40.714057</td>\n",
       "      <td>-74.009694</td>\n",
       "      <td>NaN</td>\n",
       "      <td>10007</td>\n",
       "      <td>NY</td>\n",
       "      <td>4a6e331af964a52031d41fe3</td>\n",
       "    </tr>\n",
       "    <tr>\n",
       "      <th>9</th>\n",
       "      <td>Little Park</td>\n",
       "      <td>American Restaurant</td>\n",
       "      <td>85 W Broadway</td>\n",
       "      <td>US</td>\n",
       "      <td>New York</td>\n",
       "      <td>United States</td>\n",
       "      <td>at Chambers St</td>\n",
       "      <td>29</td>\n",
       "      <td>[85 W Broadway (at Chambers St), New York, NY 10007, United States]</td>\n",
       "      <td>[{u'lat': 40.7154865852, u'lng': -74.0091331351, u'label': u'display'}]</td>\n",
       "      <td>40.715487</td>\n",
       "      <td>-74.009133</td>\n",
       "      <td>NaN</td>\n",
       "      <td>10007</td>\n",
       "      <td>NY</td>\n",
       "      <td>545c0436498e798e22ce4b2a</td>\n",
       "    </tr>\n",
       "  </tbody>\n",
       "</table>\n",
       "</div>"
      ],
      "text/plain": [
       "                    name                     categories           address  cc  \\\n",
       "0  Korin                  Furniture / Home Store         57 Warren St      US   \n",
       "1  Chambers Street Wines  Wine Shop                      148 Chambers St   US   \n",
       "2  Takahachi Bakery       Bakery                         25 Murray St      US   \n",
       "3  Takahachi              Sushi Restaurant               145 Duane St      US   \n",
       "4  Juice Press            Vegetarian / Vegan Restaurant  83 Murray St      US   \n",
       "5  Nish Nūsh              Falafel Restaurant             88 Reade St       US   \n",
       "6  Mulberry & Vine        Café                           73 Warren St      US   \n",
       "7  Ten Over Ten           Nail Salon                     112 Reade St      US   \n",
       "8  Equinox Tribeca        Gym                            54 Murray Street  US   \n",
       "9  Little Park            American Restaurant            85 W Broadway     US   \n",
       "\n",
       "       city        country                     crossStreet  distance  \\\n",
       "0  New York  United States  Church St                       73         \n",
       "1  New York  United States  btwn West Broadway & Hudson St  88         \n",
       "2  New York  United States  at Church St                    179        \n",
       "3  New York  United States  btwn W Broadway & Church St     146        \n",
       "4  New York  United States  btwn Greenwich St & W Broadway  202        \n",
       "5  New York  United States  at Church St                    97         \n",
       "6  New York  United States  btwn W Broadway & Greenwich St  117        \n",
       "7  New York  United States  NaN                             68         \n",
       "8  New York  United States  at W Broadway                   159        \n",
       "9  New York  United States  at Chambers St                  29         \n",
       "\n",
       "                                                                        formattedAddress  \\\n",
       "0  [57 Warren St (Church St), New York, NY 10007, United States]                           \n",
       "1  [148 Chambers St (btwn West Broadway & Hudson St), New York, NY 10007, United States]   \n",
       "2  [25 Murray St (at Church St), New York, NY 10007, United States]                        \n",
       "3  [145 Duane St (btwn W Broadway & Church St), New York, NY 10013, United States]         \n",
       "4  [83 Murray St (btwn Greenwich St & W Broadway), New York, NY 10007, United States]      \n",
       "5  [88 Reade St (at Church St), New York, NY 10013, United States]                         \n",
       "6  [73 Warren St (btwn W Broadway & Greenwich St), New York, NY 10007, United States]      \n",
       "7  [112 Reade St, New York, NY 10013, United States]                                       \n",
       "8  [54 Murray Street (at W Broadway), New York, NY 10007, United States]                   \n",
       "9  [85 W Broadway (at Chambers St), New York, NY 10007, United States]                     \n",
       "\n",
       "                                                            labeledLatLngs  \\\n",
       "0  [{u'lat': 40.7148243771, u'lng': -74.0094042546, u'label': u'display'}]   \n",
       "1  [{u'lat': 40.7157730639, u'lng': -74.0097182331, u'label': u'display'}]   \n",
       "2  [{u'lat': 40.7137232263, u'lng': -74.0087326697, u'label': u'display'}]   \n",
       "3  [{u'lat': 40.7165264741, u'lng': -74.0081010847, u'label': u'display'}]   \n",
       "4  [{u'lat': 40.7147876991, u'lng': -74.0111317502, u'label': u'display'}]   \n",
       "5  [{u'lat': 40.7155371012, u'lng': -74.0077245293, u'label': u'display'}]   \n",
       "6  [{u'lat': 40.7151769397, u'lng': -74.0102274778, u'label': u'display'}]   \n",
       "7  [{u'lat': 40.7159412557, u'lng': -74.0087205356, u'label': u'display'}]   \n",
       "8  [{u'lat': 40.714057, u'lng': -74.009694, u'label': u'display'}]           \n",
       "9  [{u'lat': 40.7154865852, u'lng': -74.0091331351, u'label': u'display'}]   \n",
       "\n",
       "         lat        lng neighborhood postalCode state  \\\n",
       "0  40.714824 -74.009404  Tribeca      10007      NY     \n",
       "1  40.715773 -74.009718  NaN          10007      NY     \n",
       "2  40.713723 -74.008733  NaN          10007      NY     \n",
       "3  40.716526 -74.008101  NaN          10013      NY     \n",
       "4  40.714788 -74.011132  NaN          10007      NY     \n",
       "5  40.715537 -74.007725  NaN          10013      NY     \n",
       "6  40.715177 -74.010227  NaN          10007      NY     \n",
       "7  40.715941 -74.008721  NaN          10013      NY     \n",
       "8  40.714057 -74.009694  NaN          10007      NY     \n",
       "9  40.715487 -74.009133  NaN          10007      NY     \n",
       "\n",
       "                         id  \n",
       "0  4af5d65ff964a52091fd21e3  \n",
       "1  4adcf23cf964a520cc6221e3  \n",
       "2  4c154c9a77cea593c401d260  \n",
       "3  4a8f2f39f964a520471420e3  \n",
       "4  54148bc6498ea7bb8c05b70a  \n",
       "5  50ba9119e4b071a4bae6dc10  \n",
       "6  5171b5cc011cef9833bbb787  \n",
       "7  4ce2a27cd58c60fc0fa1a76f  \n",
       "8  4a6e331af964a52031d41fe3  \n",
       "9  545c0436498e798e22ce4b2a  "
      ]
     },
     "execution_count": 57,
     "metadata": {},
     "output_type": "execute_result"
    }
   ],
   "source": [
    "dataframe = json_normalize(items) # flatten JSON\n",
    "\n",
    "# filter columns\n",
    "filtered_columns = ['venue.name', 'venue.categories'] + [col for col in dataframe.columns if col.startswith('venue.location.')] + ['venue.id']\n",
    "dataframe_filtered = dataframe.loc[:, filtered_columns]\n",
    "\n",
    "# filter the category for each row\n",
    "dataframe_filtered['venue.categories'] = dataframe_filtered.apply(get_category_type, axis=1)\n",
    "\n",
    "# clean columns\n",
    "dataframe_filtered.columns = [col.split('.')[-1] for col in dataframe_filtered.columns]\n",
    "\n",
    "dataframe_filtered.head(10)"
   ]
  },
  {
   "cell_type": "markdown",
   "metadata": {},
   "source": [
    "#### Let's visualize these items on the map around our location"
   ]
  },
  {
   "cell_type": "code",
   "execution_count": 58,
   "metadata": {},
   "outputs": [
    {
     "data": {
      "text/html": [
       "<div style=\"width:100%;\"><div style=\"position:relative;width:100%;height:0;padding-bottom:60%;\"><iframe src=\"data:text/html;charset=utf-8;base64,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\" style=\"position:absolute;width:100%;height:100%;left:0;top:0;border:none !important;\" allowfullscreen webkitallowfullscreen mozallowfullscreen></iframe></div></div>"
      ],
      "text/plain": [
       "<folium.folium.Map at 0x1149b6b90>"
      ]
     },
     "execution_count": 58,
     "metadata": {},
     "output_type": "execute_result"
    }
   ],
   "source": [
    "venues_map = folium.Map(location=[latitude, longitude], zoom_start=15) # generate map centred around Ecco\n",
    "\n",
    "\n",
    "# add Ecco as a red circle mark\n",
    "folium.features.CircleMarker(\n",
    "    [latitude, longitude],\n",
    "    radius=10,\n",
    "    popup='Ecco',\n",
    "    fill=True,\n",
    "    color='red',\n",
    "    fill_color='red',\n",
    "    fill_opacity=0.6\n",
    "    ).add_to(venues_map)\n",
    "\n",
    "\n",
    "# add popular spots to the map as blue circle markers\n",
    "for lat, lng, label in zip(dataframe_filtered.lat, dataframe_filtered.lng, dataframe_filtered.categories):\n",
    "    folium.features.CircleMarker(\n",
    "        [lat, lng],\n",
    "        radius=5,\n",
    "        popup=label,\n",
    "        fill=True,\n",
    "        color='blue',\n",
    "        fill_color='blue',\n",
    "        fill_opacity=0.6\n",
    "        ).add_to(venues_map)\n",
    "\n",
    "# display map\n",
    "venues_map"
   ]
  },
  {
   "cell_type": "markdown",
   "metadata": {},
   "source": [
    "## 5. Explore Trending Venues\n",
    "> `https://api.foursquare.com/v2/venues/`**trending**`?client_id=`**CLIENT_ID**`&client_secret=`**CLIENT_SECRET**`&ll=`**LATITUDE**`,`**LONGITUDE**`&v=`**VERSION**"
   ]
  },
  {
   "cell_type": "markdown",
   "metadata": {},
   "source": [
    "#### Now, instead of simply exploring the area around Ecco, you are interested in knowing the venues that are trending at the time you are done with your lunch, meaning the places with the highest foot traffic. So let's do that and get the trending venues around Ecco."
   ]
  },
  {
   "cell_type": "code",
   "execution_count": 59,
   "metadata": {},
   "outputs": [
    {
     "data": {
      "text/plain": [
       "{u'meta': {u'code': 200, u'requestId': u'5c1bee234c1f677d295c61dc'},\n",
       " u'response': {u'venues': []}}"
      ]
     },
     "execution_count": 59,
     "metadata": {},
     "output_type": "execute_result"
    }
   ],
   "source": [
    "# define URL\n",
    "url = 'https://api.foursquare.com/v2/venues/trending?client_id={}&client_secret={}&ll={},{}&v={}'.format(CLIENT_ID, CLIENT_SECRET, latitude, longitude, VERSION)\n",
    "\n",
    "# send GET request and get trending venues\n",
    "results = requests.get(url).json()\n",
    "results"
   ]
  },
  {
   "cell_type": "code",
   "execution_count": 60,
   "metadata": {},
   "outputs": [],
   "source": [
    "### Check if any venues are trending at this time"
   ]
  },
  {
   "cell_type": "code",
   "execution_count": 66,
   "metadata": {},
   "outputs": [],
   "source": [
    "if len(results['response']['venues']) == 0:\n",
    "    trending_venues_df = 'No trending venues are available at the moment!'\n",
    "    \n",
    "else:\n",
    "    trending_venues = results['response']['venues']\n",
    "    trending_venues_df = json_normalize(trending_venues)\n",
    "\n",
    "    # filter columns\n",
    "    columns_filtered = ['name', 'categories'] + ['location.distance', 'location.city', 'location.postalCode', 'location.state', 'location.country', 'location.lat', 'location.lng']\n",
    "    trending_venues_df = trending_venues_df.loc[:, columns_filtered]\n",
    "\n",
    "    # filter the category for each row\n",
    "    trending_venues_df['categories'] = trending_venues_df.apply(get_category_type, axis=1)"
   ]
  },
  {
   "cell_type": "code",
   "execution_count": 67,
   "metadata": {},
   "outputs": [
    {
     "data": {
      "text/plain": [
       "'No trending venues are available at the moment!'"
      ]
     },
     "execution_count": 67,
     "metadata": {},
     "output_type": "execute_result"
    }
   ],
   "source": [
    "# display trending venues\n",
    "trending_venues_df"
   ]
  },
  {
   "cell_type": "markdown",
   "metadata": {},
   "source": [
    "Now, depending on when you run the above code, you might get different venues since the venues with the highest foot traffic are fetched live. "
   ]
  },
  {
   "cell_type": "code",
   "execution_count": 68,
   "metadata": {},
   "outputs": [],
   "source": [
    "### Visualize trending venues"
   ]
  },
  {
   "cell_type": "code",
   "execution_count": 69,
   "metadata": {},
   "outputs": [],
   "source": [
    "if len(results['response']['venues']) == 0:\n",
    "    venues_map = 'Cannot generate visual as no trending venues are available at the moment!'\n",
    "\n",
    "else:\n",
    "    venues_map = folium.Map(location=[latitude, longitude], zoom_start=15) # generate map centred around Ecco\n",
    "\n",
    "\n",
    "    # add Ecco as a red circle mark\n",
    "    folium.features.CircleMarker(\n",
    "        [latitude, longitude],\n",
    "        radius=10,\n",
    "        popup='Ecco',\n",
    "        fill=True,\n",
    "        color='red',\n",
    "        fill_color='red',\n",
    "        fill_opacity=0.6\n",
    "    ).add_to(venues_map)\n",
    "\n",
    "\n",
    "    # add the trending venues as blue circle markers\n",
    "    for lat, lng, label in zip(trending_venues_df['location.lat'], trending_venues_df['location.lng'], trending_venues_df['name']):\n",
    "        folium.features.CircleMarker(\n",
    "            [lat, lng],\n",
    "            radius=5,\n",
    "            poup=label,\n",
    "            fill=True,\n",
    "            color='blue',\n",
    "            fill_color='blue',\n",
    "            fill_opacity=0.6\n",
    "        ).add_to(venues_map)"
   ]
  },
  {
   "cell_type": "code",
   "execution_count": 70,
   "metadata": {},
   "outputs": [
    {
     "data": {
      "text/plain": [
       "'Cannot generate visual as no trending venues are available at the moment!'"
      ]
     },
     "execution_count": 70,
     "metadata": {},
     "output_type": "execute_result"
    }
   ],
   "source": [
    "# display map\n",
    "venues_map"
   ]
  },
  {
   "cell_type": "code",
   "execution_count": null,
   "metadata": {},
   "outputs": [],
   "source": []
  }
 ],
 "metadata": {
  "kernelspec": {
   "display_name": "Python 2",
   "language": "python",
   "name": "python2"
  },
  "language_info": {
   "codemirror_mode": {
    "name": "ipython",
    "version": 2
   },
   "file_extension": ".py",
   "mimetype": "text/x-python",
   "name": "python",
   "nbconvert_exporter": "python",
   "pygments_lexer": "ipython2",
   "version": "2.7.14"
  }
 },
 "nbformat": 4,
 "nbformat_minor": 2
}
